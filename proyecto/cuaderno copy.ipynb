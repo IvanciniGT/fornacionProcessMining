{
 "cells": [
  {
   "cell_type": "markdown",
   "id": "7945cdf1",
   "metadata": {},
   "source": [
    "# Primer ejemplo de minería de procesos\n",
    "\n",
    "En este cuaderno, vamos a:\n",
    "- Cargar con pandas un archivo de eventos\n",
    "- Preparar el archivo para su procesamiento por pm4py\n",
    "- Cargar el archivo en pm4py\n",
    "- Vamos a hacer discovering de procesos\n",
    "- Vamos a identificar los potenciales cuellos de botella o áreas de mejora.\n",
    "\n",
    "A por ello!"
   ]
  },
  {
   "cell_type": "code",
   "execution_count": 81,
   "id": "682c2485",
   "metadata": {},
   "outputs": [],
   "source": [
    "# Importaciones que necesitamos:\n",
    "import pandas as pd\n",
    "from pm4py.objects.conversion.log import converter\n",
    "\n",
    "from pm4py.algo.discovery.inductive import algorithm as inductive_miner\n",
    "\n",
    "from pm4py.objects.conversion.process_tree.variants import to_bpmn as conversor_a_bpmn\n",
    "from pm4py.objects.conversion.process_tree import converter as conversor_a_petri\n",
    "\n",
    "from pm4py.visualization.process_tree import visualizer as visualizador_de_process_trees\n",
    "from pm4py.visualization.petri_net import visualizer as visualizador_redes_de_petri\n",
    "from pm4py.visualization.bpmn import visualizer as visualizador_de_bpmn\n",
    "\n",
    "from pm4py.objects.bpmn.exporter import exporter as exportador_a_bpmn\n"
   ]
  },
  {
   "cell_type": "markdown",
   "id": "1ed0cb9a",
   "metadata": {},
   "source": [
    "Lo primero que haremos será cargar con pandas el archivo de eventos."
   ]
  },
  {
   "cell_type": "code",
   "execution_count": 82,
   "id": "656606df",
   "metadata": {},
   "outputs": [
    {
     "data": {
      "text/html": [
       "<div>\n",
       "<style scoped>\n",
       "    .dataframe tbody tr th:only-of-type {\n",
       "        vertical-align: middle;\n",
       "    }\n",
       "\n",
       "    .dataframe tbody tr th {\n",
       "        vertical-align: top;\n",
       "    }\n",
       "\n",
       "    .dataframe thead th {\n",
       "        text-align: right;\n",
       "    }\n",
       "</style>\n",
       "<table border=\"1\" class=\"dataframe\">\n",
       "  <thead>\n",
       "    <tr style=\"text-align: right;\">\n",
       "      <th></th>\n",
       "      <th>case_id</th>\n",
       "      <th>activity</th>\n",
       "      <th>timestamp</th>\n",
       "      <th>resource</th>\n",
       "    </tr>\n",
       "  </thead>\n",
       "  <tbody>\n",
       "    <tr>\n",
       "      <th>0</th>\n",
       "      <td>1001</td>\n",
       "      <td>Pedido recibido</td>\n",
       "      <td>2025-06-01 09:00:00</td>\n",
       "      <td>Ana</td>\n",
       "    </tr>\n",
       "    <tr>\n",
       "      <th>1</th>\n",
       "      <td>1001</td>\n",
       "      <td>Validación</td>\n",
       "      <td>2025-06-01 10:00:00</td>\n",
       "      <td>Pedro</td>\n",
       "    </tr>\n",
       "    <tr>\n",
       "      <th>2</th>\n",
       "      <td>1001</td>\n",
       "      <td>Aprobación</td>\n",
       "      <td>2025-06-01 11:30:00</td>\n",
       "      <td>Juan</td>\n",
       "    </tr>\n",
       "    <tr>\n",
       "      <th>3</th>\n",
       "      <td>1002</td>\n",
       "      <td>Pedido recibido</td>\n",
       "      <td>2025-06-01 09:15:00</td>\n",
       "      <td>Ana</td>\n",
       "    </tr>\n",
       "    <tr>\n",
       "      <th>4</th>\n",
       "      <td>1002</td>\n",
       "      <td>Rechazo</td>\n",
       "      <td>2025-06-01 09:45:00</td>\n",
       "      <td>Marta</td>\n",
       "    </tr>\n",
       "  </tbody>\n",
       "</table>\n",
       "</div>"
      ],
      "text/plain": [
       "   case_id         activity           timestamp resource\n",
       "0     1001  Pedido recibido 2025-06-01 09:00:00      Ana\n",
       "1     1001       Validación 2025-06-01 10:00:00    Pedro\n",
       "2     1001       Aprobación 2025-06-01 11:30:00     Juan\n",
       "3     1002  Pedido recibido 2025-06-01 09:15:00      Ana\n",
       "4     1002          Rechazo 2025-06-01 09:45:00    Marta"
      ]
     },
     "execution_count": 82,
     "metadata": {},
     "output_type": "execute_result"
    }
   ],
   "source": [
    "datos = pd.read_csv('datos.csv', parse_dates=['timestamp'])\n",
    "datos"
   ]
  },
  {
   "cell_type": "code",
   "execution_count": 83,
   "id": "f9fc5930",
   "metadata": {},
   "outputs": [
    {
     "name": "stdout",
     "output_type": "stream",
     "text": [
      "<class 'pandas.core.frame.DataFrame'>\n",
      "RangeIndex: 5 entries, 0 to 4\n",
      "Data columns (total 4 columns):\n",
      " #   Column     Non-Null Count  Dtype         \n",
      "---  ------     --------------  -----         \n",
      " 0   case_id    5 non-null      int64         \n",
      " 1   activity   5 non-null      object        \n",
      " 2   timestamp  5 non-null      datetime64[ns]\n",
      " 3   resource   5 non-null      object        \n",
      "dtypes: datetime64[ns](1), int64(1), object(2)\n",
      "memory usage: 288.0+ bytes\n"
     ]
    }
   ],
   "source": [
    "datos.info()"
   ]
  },
  {
   "cell_type": "code",
   "execution_count": 84,
   "id": "ae676827",
   "metadata": {},
   "outputs": [
    {
     "data": {
      "text/html": [
       "<div>\n",
       "<style scoped>\n",
       "    .dataframe tbody tr th:only-of-type {\n",
       "        vertical-align: middle;\n",
       "    }\n",
       "\n",
       "    .dataframe tbody tr th {\n",
       "        vertical-align: top;\n",
       "    }\n",
       "\n",
       "    .dataframe thead th {\n",
       "        text-align: right;\n",
       "    }\n",
       "</style>\n",
       "<table border=\"1\" class=\"dataframe\">\n",
       "  <thead>\n",
       "    <tr style=\"text-align: right;\">\n",
       "      <th></th>\n",
       "      <th>case_id</th>\n",
       "      <th>timestamp</th>\n",
       "    </tr>\n",
       "  </thead>\n",
       "  <tbody>\n",
       "    <tr>\n",
       "      <th>count</th>\n",
       "      <td>5.000000</td>\n",
       "      <td>5</td>\n",
       "    </tr>\n",
       "    <tr>\n",
       "      <th>mean</th>\n",
       "      <td>1001.400000</td>\n",
       "      <td>2025-06-01 09:54:00</td>\n",
       "    </tr>\n",
       "    <tr>\n",
       "      <th>min</th>\n",
       "      <td>1001.000000</td>\n",
       "      <td>2025-06-01 09:00:00</td>\n",
       "    </tr>\n",
       "    <tr>\n",
       "      <th>25%</th>\n",
       "      <td>1001.000000</td>\n",
       "      <td>2025-06-01 09:15:00</td>\n",
       "    </tr>\n",
       "    <tr>\n",
       "      <th>50%</th>\n",
       "      <td>1001.000000</td>\n",
       "      <td>2025-06-01 09:45:00</td>\n",
       "    </tr>\n",
       "    <tr>\n",
       "      <th>75%</th>\n",
       "      <td>1002.000000</td>\n",
       "      <td>2025-06-01 10:00:00</td>\n",
       "    </tr>\n",
       "    <tr>\n",
       "      <th>max</th>\n",
       "      <td>1002.000000</td>\n",
       "      <td>2025-06-01 11:30:00</td>\n",
       "    </tr>\n",
       "    <tr>\n",
       "      <th>std</th>\n",
       "      <td>0.547723</td>\n",
       "      <td>NaN</td>\n",
       "    </tr>\n",
       "  </tbody>\n",
       "</table>\n",
       "</div>"
      ],
      "text/plain": [
       "           case_id            timestamp\n",
       "count     5.000000                    5\n",
       "mean   1001.400000  2025-06-01 09:54:00\n",
       "min    1001.000000  2025-06-01 09:00:00\n",
       "25%    1001.000000  2025-06-01 09:15:00\n",
       "50%    1001.000000  2025-06-01 09:45:00\n",
       "75%    1002.000000  2025-06-01 10:00:00\n",
       "max    1002.000000  2025-06-01 11:30:00\n",
       "std       0.547723                  NaN"
      ]
     },
     "execution_count": 84,
     "metadata": {},
     "output_type": "execute_result"
    }
   ],
   "source": [
    "datos.describe()"
   ]
  },
  {
   "cell_type": "markdown",
   "id": "59b6e1aa",
   "metadata": {},
   "source": [
    "Cambiamos los nombres de las columnas a los que necesita pm4py. Además aprovechamos para ordenar las columnas de forma que queden como las necesita pm4py."
   ]
  },
  {
   "cell_type": "code",
   "execution_count": 121,
   "id": "ce5f5f87",
   "metadata": {},
   "outputs": [
    {
     "data": {
      "text/html": [
       "<div>\n",
       "<style scoped>\n",
       "    .dataframe tbody tr th:only-of-type {\n",
       "        vertical-align: middle;\n",
       "    }\n",
       "\n",
       "    .dataframe tbody tr th {\n",
       "        vertical-align: top;\n",
       "    }\n",
       "\n",
       "    .dataframe thead th {\n",
       "        text-align: right;\n",
       "    }\n",
       "</style>\n",
       "<table border=\"1\" class=\"dataframe\">\n",
       "  <thead>\n",
       "    <tr style=\"text-align: right;\">\n",
       "      <th></th>\n",
       "      <th>case:concept:name</th>\n",
       "      <th>concept:name</th>\n",
       "      <th>time:timestamp</th>\n",
       "      <th>resource</th>\n",
       "    </tr>\n",
       "  </thead>\n",
       "  <tbody>\n",
       "    <tr>\n",
       "      <th>0</th>\n",
       "      <td>1001</td>\n",
       "      <td>Pedido recibido</td>\n",
       "      <td>2025-06-01 09:00:00</td>\n",
       "      <td>Ana</td>\n",
       "    </tr>\n",
       "    <tr>\n",
       "      <th>1</th>\n",
       "      <td>1001</td>\n",
       "      <td>Validación</td>\n",
       "      <td>2025-06-01 10:00:00</td>\n",
       "      <td>Pedro</td>\n",
       "    </tr>\n",
       "    <tr>\n",
       "      <th>2</th>\n",
       "      <td>1001</td>\n",
       "      <td>Aprobación</td>\n",
       "      <td>2025-06-01 11:30:00</td>\n",
       "      <td>Juan</td>\n",
       "    </tr>\n",
       "    <tr>\n",
       "      <th>3</th>\n",
       "      <td>1002</td>\n",
       "      <td>Pedido recibido</td>\n",
       "      <td>2025-06-01 09:15:00</td>\n",
       "      <td>Ana</td>\n",
       "    </tr>\n",
       "    <tr>\n",
       "      <th>4</th>\n",
       "      <td>1002</td>\n",
       "      <td>Rechazo</td>\n",
       "      <td>2025-06-01 09:45:00</td>\n",
       "      <td>Marta</td>\n",
       "    </tr>\n",
       "  </tbody>\n",
       "</table>\n",
       "</div>"
      ],
      "text/plain": [
       "   case:concept:name     concept:name      time:timestamp resource\n",
       "0               1001  Pedido recibido 2025-06-01 09:00:00      Ana\n",
       "1               1001       Validación 2025-06-01 10:00:00    Pedro\n",
       "2               1001       Aprobación 2025-06-01 11:30:00     Juan\n",
       "3               1002  Pedido recibido 2025-06-01 09:15:00      Ana\n",
       "4               1002          Rechazo 2025-06-01 09:45:00    Marta"
      ]
     },
     "execution_count": 121,
     "metadata": {},
     "output_type": "execute_result"
    }
   ],
   "source": [
    "# Renombra las columnas para que pm4py las entienda\n",
    "datos_preparados = datos.rename(columns={\n",
    "    'case_id': 'case:concept:name',\n",
    "    'activity': 'concept:name',\n",
    "    'timestamp': 'time:timestamp'\n",
    "})  \n",
    "# Ordenar por caso y por fecha\n",
    "datos_renombrados = datos_preparados.sort_values(by=['case:concept:name', 'time:timestamp'])  # Ordena los datos por case_id y timestamp\n",
    "\n",
    "datos_preparados "
   ]
  },
  {
   "cell_type": "markdown",
   "id": "7e579f38",
   "metadata": {},
   "source": [
    "Le pido a la librería que cargue el DataFrame y lo transforme en un objeto de tipo Event Log.\n",
    "\n",
    "Un event log es un objeto propio de la librería pm4py que contiene los datos del DataFrame en un formato adecuado para el análisis de procesos."
   ]
  },
  {
   "cell_type": "code",
   "execution_count": 86,
   "id": "5b559c42",
   "metadata": {},
   "outputs": [
    {
     "data": {
      "text/plain": [
       "[{'attributes': {'concept:name': 1001}, 'events': [{'concept:name': 'Pedido recibido', 'time:timestamp': Timestamp('2025-06-01 09:00:00'), 'resource': 'Ana'}, '..', {'concept:name': 'Aprobación', 'time:timestamp': Timestamp('2025-06-01 11:30:00'), 'resource': 'Juan'}]}, '....', {'attributes': {'concept:name': 1002}, 'events': [{'concept:name': 'Pedido recibido', 'time:timestamp': Timestamp('2025-06-01 09:15:00'), 'resource': 'Ana'}, '..', {'concept:name': 'Rechazo', 'time:timestamp': Timestamp('2025-06-01 09:45:00'), 'resource': 'Marta'}]}]"
      ]
     },
     "execution_count": 86,
     "metadata": {},
     "output_type": "execute_result"
    }
   ],
   "source": [
    "log = converter.apply(datos_preparados, variant = converter.Variants.TO_EVENT_LOG)  # Convierte los datos a un log de eventos de pm4py\n",
    "log"
   ]
  },
  {
   "cell_type": "markdown",
   "id": "de567650",
   "metadata": {},
   "source": [
    "Lo que vemos ahí es un formato raro (de listas y diccionarios) en el que pm4py prepara los datos para posteriormente poder analizarlos.B\n",
    "\n",
    "Básicamente, los agrupa por CASO.\n",
    "\n",
    "Ese formato interno nos da igual verlo por pantalla... solo es algo que hay que hacer."
   ]
  },
  {
   "cell_type": "markdown",
   "id": "e8e1485f",
   "metadata": {},
   "source": [
    "Una vez hecho esto, lo que vamos a hacer es generar un modelo, a partir de los datos que hemos cargado, para ver cómo es el proceso.\n",
    "\n",
    "La forma más básica de modelo que tiene pm4py es lo que se llama un PROCESS TREE.\n",
    "\n",
    "Eso es algo muy formal... y que cuando lo miro, flipo!... pero es la descripción matemática formal del modelo de proceso, al que se ajustan TODAS las entradas del log de eventos."
   ]
  },
  {
   "cell_type": "code",
   "execution_count": 87,
   "id": "1e19a69f",
   "metadata": {},
   "outputs": [
    {
     "data": {
      "text/plain": [
       "->( 'Pedido recibido', X( ->( 'Validación', 'Aprobación' ), 'Rechazo' ) )"
      ]
     },
     "execution_count": 87,
     "metadata": {},
     "output_type": "execute_result"
    }
   ],
   "source": [
    "# Estamos usando un algoritmo de mineria de procesos, llamado Inductive Miner, para descubrir el modelo de proceso a partir del log de eventos.\n",
    "# Hay muchos más algoritmos. Ya os pasaré una lista.\n",
    "process_tree = inductive_miner.apply(log)  # Aplica el algoritmo de descubrimiento inductivo a los datos\n",
    "\n",
    "process_tree\n"
   ]
  },
  {
   "cell_type": "markdown",
   "id": "45e2e5d1",
   "metadata": {},
   "source": [
    "Ahí podemos llegar a ver los siguientes operadores:\n",
    "\n",
    "-> SECUENCIA: indica que una actividad(es) sigue a otra.\n",
    "\n",
    "X  ALTERNATIVA: indica que una actividad(es) u otra puede ocurrir.\n",
    "\n",
    "^  AND: Tareas que se ejecutan en paralelo.\n",
    "\n",
    "⟳ ITERACIÓN: indica que una actividad(es) puede repetirse.\n",
    "\n",
    "\n",
    "    SECUENCIA\n",
    "    - Pedido recibido\n",
    "    - ALTERNATIVA\n",
    "        - SECUENCIA\n",
    "            - Validación\n",
    "            - Aprobación\n",
    "        - Rechazo\n",
    "\n",
    "Esta representación es muy buena para el posterior análsis de los datos. Cuando digo muy buena, me refiero a que COMPUTACIONALMENTE ES MUY FÁCIL RECORRER ESE ÁRBOL e ir PROBANDO los datos que tenemos en el fichero de los... a ver si encajan o no con  ese árbol. ESO ES ALGO QUE HACE INTERNAMENTE LA LIBRERÍA PM4PY.\n",
    "\n",
    "Lo que hacemos posteriormente es transformar ese process_tree en algo que nosotros podamos ver y entender mejor: un diagrama de RED DE PETRI o un diagrama BPMN."
   ]
  },
  {
   "cell_type": "code",
   "execution_count": 88,
   "id": "9fbdbe79",
   "metadata": {},
   "outputs": [
    {
     "data": {
      "image/png": "[encoded data removed]",
      "text/plain": [
       "<IPython.core.display.Image object>"
      ]
     },
     "metadata": {},
     "output_type": "display_data"
    }
   ],
   "source": [
    "grafico_process_tree = visualizador_de_process_trees.apply(process_tree, parameters={\"format\": \"png\"})\n",
    "visualizador_de_process_trees.save(grafico_process_tree,\"process_tree.png\")\n",
    "visualizador_de_process_trees.view(grafico_process_tree)"
   ]
  },
  {
   "cell_type": "markdown",
   "id": "a1eb8a58",
   "metadata": {},
   "source": [
    "Ese árbol de procesos está guay para PM4PY.. no para mi. Vamos a generar una red de petri, que podemos representar en algo que lleva un flujo!"
   ]
  },
  {
   "cell_type": "code",
   "execution_count": 89,
   "id": "97ad61d6",
   "metadata": {},
   "outputs": [
    {
     "data": {
      "text/plain": [
       "places: [ p_3, p_4, sink, source ]\n",
       "transitions: [ (005af996-8466-4b56-9e9d-a10f06bbaba4, 'Aprobación'), (089576a9-4220-4a43-a3ff-f45f9de8d8b8, 'Rechazo'), (463edb21-1e71-437f-b3a0-1e5b3302eb6a, 'Validación'), (5ac4365b-a2e8-45c8-b1df-54b418a6a8f8, 'Pedido recibido') ]\n",
       "arcs: [ (005af996-8466-4b56-9e9d-a10f06bbaba4, 'Aprobación')->sink, (089576a9-4220-4a43-a3ff-f45f9de8d8b8, 'Rechazo')->sink, (463edb21-1e71-437f-b3a0-1e5b3302eb6a, 'Validación')->p_4, (5ac4365b-a2e8-45c8-b1df-54b418a6a8f8, 'Pedido recibido')->p_3, p_3->(089576a9-4220-4a43-a3ff-f45f9de8d8b8, 'Rechazo'), p_3->(463edb21-1e71-437f-b3a0-1e5b3302eb6a, 'Validación'), p_4->(005af996-8466-4b56-9e9d-a10f06bbaba4, 'Aprobación'), source->(5ac4365b-a2e8-45c8-b1df-54b418a6a8f8, 'Pedido recibido') ]"
      ]
     },
     "execution_count": 89,
     "metadata": {},
     "output_type": "execute_result"
    }
   ],
   "source": [
    "red, origenes, finales = conversor_a_petri.apply(process_tree)  # Convierte el árbol de procesos a una red de Petri\n",
    "red\n"
   ]
  },
  {
   "cell_type": "code",
   "execution_count": 90,
   "id": "4118036d",
   "metadata": {},
   "outputs": [
    {
     "data": {
      "text/plain": [
       "['source:1']"
      ]
     },
     "execution_count": 90,
     "metadata": {},
     "output_type": "execute_result"
    }
   ],
   "source": [
    "origenes"
   ]
  },
  {
   "cell_type": "code",
   "execution_count": 91,
   "id": "d42a2291",
   "metadata": {},
   "outputs": [
    {
     "data": {
      "text/plain": [
       "['sink:1']"
      ]
     },
     "execution_count": 91,
     "metadata": {},
     "output_type": "execute_result"
    }
   ],
   "source": [
    "finales"
   ]
  },
  {
   "cell_type": "markdown",
   "id": "2d72837d",
   "metadata": {},
   "source": [
    "Ahora tenemos una red de petri. Lo que vemos en pantalla es la representación INTERNA que se hace de esa red de petri... pero para verla, nos interesa más que se nos dibuje como un grafo:"
   ]
  },
  {
   "cell_type": "code",
   "execution_count": 92,
   "id": "0e1dc862",
   "metadata": {},
   "outputs": [
    {
     "data": {
      "image/png": "[encoded data removed]",
      "text/plain": [
       "<IPython.core.display.Image object>"
      ]
     },
     "metadata": {},
     "output_type": "display_data"
    }
   ],
   "source": [
    "\n",
    "grafico_red_petri = visualizador_redes_de_petri.apply(red, origenes, finales, parameters={\"format\": \"png\"})  # Visualiza la red de Petri resultante del descubrimiento\n",
    "\n",
    "visualizador_redes_de_petri.save(grafico_red_petri, \"proceso.png\")  # Guarda la visualización en un fichero PNG\n",
    "visualizador_redes_de_petri.view(grafico_red_petri)"
   ]
  },
  {
   "cell_type": "markdown",
   "id": "0ec1c9b7",
   "metadata": {},
   "source": [
    "Igual que hemos generado un modelo PETRI del proceso, podemos generar un modelo BPMN del proceso.\n",
    "Vamos a generar un modelo BPMN del proceso. \n",
    "Ese modelo posteriormente lo podemos:\n",
    "- Representar gráficamente en algo más fácil de entender para los humanos.\n",
    "- Exportarlo a un fichero XML que se puede importar en herramientas de modelado de procesos industriales."
   ]
  },
  {
   "cell_type": "code",
   "execution_count": 93,
   "id": "4e4d0ca2",
   "metadata": {},
   "outputs": [
    {
     "data": {
      "text/plain": [
       "<pm4py.objects.bpmn.obj.BPMN at 0x2eb66bfa0>"
      ]
     },
     "execution_count": 93,
     "metadata": {},
     "output_type": "execute_result"
    }
   ],
   "source": [
    "modelo_bpmn = conversor_a_bpmn.apply(process_tree)  # Convierte el árbol de procesos a una red de Petri\n",
    "modelo_bpmn"
   ]
  },
  {
   "cell_type": "markdown",
   "id": "00912688",
   "metadata": {},
   "source": [
    "Ahora que ya tengo el modelo podemos guardarlo como xml:"
   ]
  },
  {
   "cell_type": "code",
   "execution_count": 94,
   "id": "c34f6ce2",
   "metadata": {},
   "outputs": [],
   "source": [
    "exportador_a_bpmn.apply(modelo_bpmn, \"proceso.bpmn\")  # Exporta el modelo BPMN a un fichero XML"
   ]
  },
  {
   "cell_type": "code",
   "execution_count": 95,
   "id": "2cd6df5e",
   "metadata": {},
   "outputs": [
    {
     "data": {
      "image/png": "[encoded data removed]",
      "text/plain": [
       "<IPython.core.display.Image object>"
      ]
     },
     "metadata": {},
     "output_type": "display_data"
    }
   ],
   "source": [
    "\n",
    "grafico_bpmn = visualizador_de_bpmn.apply(modelo_bpmn, parameters={\"format\": \"png\"})  # Visualiza la red de Petri resultante del descubrimiento\n",
    "\n",
    "visualizador_de_bpmn.save(grafico_bpmn, \"proceso-bpmn.png\")  # Guarda la visualización en un fichero PNG\n",
    "visualizador_de_bpmn.view(grafico_bpmn) # Lo muestra aqui en pantalla"
   ]
  },
  {
   "cell_type": "code",
   "execution_count": null,
   "id": "d220ee1f",
   "metadata": {},
   "outputs": [],
   "source": []
  },
  {
   "cell_type": "markdown",
   "id": "84cb4507",
   "metadata": {},
   "source": [
    "## Estadísticas del Log de Eventos\n",
    "\n",
    "Una vez que hemos generado el modelo del proceso, es importante analizar las estadísticas del log de eventos para entender mejor las características del proceso."
   ]
  },
  {
   "cell_type": "code",
   "execution_count": 96,
   "id": "f2d279af",
   "metadata": {},
   "outputs": [],
   "source": [
    "# Importamos librerías adicionales para estadísticas\n",
    "from pm4py.statistics.traces.generic.log import case_statistics\n",
    "from pm4py.statistics.traces.generic.log import case_arrival\n",
    "from pm4py.statistics.attributes.log import get as get_attribute_values\n",
    "import numpy as np"
   ]
  },
  {
   "cell_type": "code",
   "execution_count": 97,
   "id": "1b0bd110",
   "metadata": {},
   "outputs": [
    {
     "name": "stdout",
     "output_type": "stream",
     "text": [
      "=== ESTADÍSTICAS BÁSICAS DEL LOG ===\n",
      "Número total de casos: 2\n",
      "Número total de eventos: 5\n",
      "Longitud media de traza: 2.50\n",
      "Longitud mínima de traza: 2\n",
      "Longitud máxima de traza: 3\n",
      "Desviación estándar longitud: 0.50\n"
     ]
    }
   ],
   "source": [
    "# Estadísticas básicas del log\n",
    "print(\"=== ESTADÍSTICAS BÁSICAS DEL LOG ===\")\n",
    "print(f\"Número total de casos: {len(log)}\")\n",
    "print(f\"Número total de eventos: {sum(len(trace) for trace in log)}\")\n",
    "\n",
    "# Longitud de las trazas\n",
    "longitudes_trazas = [len(trace) for trace in log]\n",
    "print(f\"Longitud media de traza: {np.mean(longitudes_trazas):.2f}\")\n",
    "print(f\"Longitud mínima de traza: {min(longitudes_trazas)}\")\n",
    "print(f\"Longitud máxima de traza: {max(longitudes_trazas)}\")\n",
    "print(f\"Desviación estándar longitud: {np.std(longitudes_trazas):.2f}\")"
   ]
  },
  {
   "cell_type": "code",
   "execution_count": 98,
   "id": "9f4049b3",
   "metadata": {},
   "outputs": [
    {
     "name": "stdout",
     "output_type": "stream",
     "text": [
      "\n",
      "=== ESTADÍSTICAS DE ACTIVIDADES ===\n",
      "Número de actividades únicas: 4\n",
      "\n",
      "Frecuencia de actividades:\n",
      "  - Pedido recibido: 2 eventos\n",
      "  - Validación: 1 eventos\n",
      "  - Aprobación: 1 eventos\n",
      "  - Rechazo: 1 eventos\n"
     ]
    }
   ],
   "source": [
    "# Estadísticas de actividades\n",
    "print(\"\\n=== ESTADÍSTICAS DE ACTIVIDADES ===\")\n",
    "actividades = get_attribute_values.get_attribute_values(log, \"concept:name\")\n",
    "print(f\"Número de actividades únicas: {len(actividades)}\")\n",
    "print(\"\\nFrecuencia de actividades:\")\n",
    "for actividad, frecuencia in sorted(actividades.items(), key=lambda x: x[1], reverse=True):\n",
    "    print(f\"  - {actividad}: {frecuencia} eventos\")"
   ]
  },
  {
   "cell_type": "code",
   "execution_count": 99,
   "id": "077ece44",
   "metadata": {},
   "outputs": [
    {
     "name": "stdout",
     "output_type": "stream",
     "text": [
      "\n",
      "=== VARIANTES DEL PROCESO ===\n",
      "Número de variantes únicas: 2\n",
      "Variante más común: ('Pedido recibido', 'Validación', 'Aprobación') (aparece 1 veces)\n",
      "\n",
      "Top 5 variantes más frecuentes:\n",
      "  1. Pedido recibido → Validación → Aprobación (1 casos)\n",
      "  2. Pedido recibido → Rechazo (1 casos)\n"
     ]
    }
   ],
   "source": [
    "# Estadísticas de variantes del proceso\n",
    "print(\"\\n=== VARIANTES DEL PROCESO ===\")\n",
    "variantes = {}\n",
    "for trace in log:\n",
    "    variante = tuple([event[\"concept:name\"] for event in trace])\n",
    "    if variante in variantes:\n",
    "        variantes[variante] += 1\n",
    "    else:\n",
    "        variantes[variante] = 1\n",
    "\n",
    "print(f\"Número de variantes únicas: {len(variantes)}\")\n",
    "print(f\"Variante más común: {max(variantes, key=variantes.get)} (aparece {max(variantes.values())} veces)\")\n",
    "\n",
    "print(\"\\nTop 5 variantes más frecuentes:\")\n",
    "for i, (variante, frecuencia) in enumerate(sorted(variantes.items(), key=lambda x: x[1], reverse=True)[:5]):\n",
    "    print(f\"  {i+1}. {' → '.join(variante)} ({frecuencia} casos)\")"
   ]
  },
  {
   "cell_type": "code",
   "execution_count": 100,
   "id": "60d1b2ad",
   "metadata": {},
   "outputs": [
    {
     "name": "stdout",
     "output_type": "stream",
     "text": [
      "\n",
      "=== ACTIVIDADES INICIALES Y FINALES ===\n",
      "Actividades iniciales:\n",
      "  - Pedido recibido: 2 casos (100.0%)\n",
      "\n",
      "Actividades finales:\n",
      "  - Aprobación: 1 casos (50.0%)\n",
      "  - Rechazo: 1 casos (50.0%)\n",
      "\n",
      "Número de actividades iniciales únicas: 1\n",
      "Número de actividades finales únicas: 2\n",
      "\n",
      "No hay actividades que sean tanto iniciales como finales\n"
     ]
    }
   ],
   "source": [
    "# Análisis de actividades iniciales y finales (VERSIÓN OPTIMIZADA)\n",
    "print(\"\\n=== ACTIVIDADES INICIALES Y FINALES ===\")\n",
    "\n",
    "# Importar las funciones nativas de PM4py\n",
    "from pm4py.statistics.start_activities.log import get as sa_get\n",
    "from pm4py.statistics.end_activities.log import get as ea_get\n",
    "\n",
    "# Obtener actividades iniciales usando funciones nativas\n",
    "actividades_iniciales = sa_get.get_start_activities(log)\n",
    "print(\"Actividades iniciales:\")\n",
    "for actividad, frecuencia in sorted(actividades_iniciales.items(), key=lambda x: x[1], reverse=True):\n",
    "    porcentaje = (frecuencia / len(log)) * 100\n",
    "    print(f\"  - {actividad}: {frecuencia} casos ({porcentaje:.1f}%)\")\n",
    "\n",
    "# Obtener actividades finales usando funciones nativas\n",
    "actividades_finales = ea_get.get_end_activities(log)\n",
    "print(\"\\nActividades finales:\")\n",
    "for actividad, frecuencia in sorted(actividades_finales.items(), key=lambda x: x[1], reverse=True):\n",
    "    porcentaje = (frecuencia / len(log)) * 100\n",
    "    print(f\"  - {actividad}: {frecuencia} casos ({porcentaje:.1f}%)\")\n",
    "\n",
    "# Estadísticas adicionales\n",
    "print(f\"\\nNúmero de actividades iniciales únicas: {len(actividades_iniciales)}\")\n",
    "print(f\"Número de actividades finales únicas: {len(actividades_finales)}\")\n",
    "\n",
    "# Actividades que son tanto iniciales como finales\n",
    "actividades_ambas = set(actividades_iniciales.keys()) & set(actividades_finales.keys())\n",
    "if actividades_ambas:\n",
    "    print(f\"\\nActividades que pueden ser tanto iniciales como finales: {list(actividades_ambas)}\")\n",
    "else:\n",
    "    print(\"\\nNo hay actividades que sean tanto iniciales como finales\")"
   ]
  },
  {
   "cell_type": "code",
   "execution_count": 101,
   "id": "b0b98ec9",
   "metadata": {},
   "outputs": [
    {
     "name": "stdout",
     "output_type": "stream",
     "text": [
      "\n",
      "=== ANÁLISIS TEMPORAL ===\n",
      "Duración media del proceso: 1.50 horas\n",
      "Duración mínima: 0.50 horas\n",
      "Duración máxima: 2.50 horas\n",
      "Mediana de duración: 1.50 horas\n"
     ]
    }
   ],
   "source": [
    "# Análisis temporal\n",
    "print(\"\\n=== ANÁLISIS TEMPORAL ===\")\n",
    "\n",
    "# Duración de casos (si hay timestamps)\n",
    "if len(log) > 0 and len(log[0]) > 0 and \"time:timestamp\" in log[0][0]:\n",
    "    duraciones = []\n",
    "    for trace in log:\n",
    "        if len(trace) > 1:\n",
    "            inicio = trace[0][\"time:timestamp\"]\n",
    "            fin = trace[-1][\"time:timestamp\"]\n",
    "            duracion = (fin - inicio).total_seconds() / 3600  # en horas\n",
    "            duraciones.append(duracion)\n",
    "    \n",
    "    if duraciones:\n",
    "        print(f\"Duración media del proceso: {np.mean(duraciones):.2f} horas\")\n",
    "        print(f\"Duración mínima: {min(duraciones):.2f} horas\")\n",
    "        print(f\"Duración máxima: {max(duraciones):.2f} horas\")\n",
    "        print(f\"Mediana de duración: {np.median(duraciones):.2f} horas\")\n",
    "else:\n",
    "    print(\"No hay información temporal disponible en el log\")"
   ]
  },
  {
   "cell_type": "code",
   "execution_count": 102,
   "id": "90585c78",
   "metadata": {},
   "outputs": [
    {
     "name": "stdout",
     "output_type": "stream",
     "text": [
      "\n",
      "=== CALIDAD DE LOS DATOS ===\n",
      "Casos vacíos: 0\n",
      "Eventos sin nombre de actividad: 0\n",
      "Casos con una sola actividad: 0\n",
      "\n",
      "Porcentaje de casos 'normales' (>1 actividad): 100.0%\n"
     ]
    }
   ],
   "source": [
    "# Calidad de los datos\n",
    "print(\"\\n=== CALIDAD DE LOS DATOS ===\")\n",
    "\n",
    "# Verificar casos vacíos\n",
    "casos_vacios = sum(1 for trace in log if len(trace) == 0)\n",
    "print(f\"Casos vacíos: {casos_vacios}\")\n",
    "\n",
    "# Verificar eventos sin actividad\n",
    "eventos_sin_actividad = 0\n",
    "for trace in log:\n",
    "    for event in trace:\n",
    "        if \"concept:name\" not in event or event[\"concept:name\"] is None or event[\"concept:name\"] == \"\":\n",
    "            eventos_sin_actividad += 1\n",
    "\n",
    "print(f\"Eventos sin nombre de actividad: {eventos_sin_actividad}\")\n",
    "\n",
    "# Casos con una sola actividad\n",
    "casos_unitarios = sum(1 for trace in log if len(trace) == 1)\n",
    "print(f\"Casos con una sola actividad: {casos_unitarios}\")\n",
    "\n",
    "print(f\"\\nPorcentaje de casos 'normales' (>1 actividad): {((len(log) - casos_vacios - casos_unitarios) / len(log) * 100):.1f}%\")"
   ]
  },
  {
   "cell_type": "markdown",
   "id": "c13d03cb",
   "metadata": {},
   "source": [
    "## Evaluación de la Calidad de los Modelos (Fitness)\n",
    "\n",
    "El fitness mide qué tan bien el modelo descubierto puede reproducir el comportamiento observado en el log de eventos. Un fitness de 1.0 significa que el modelo puede reproducir perfectamente todas las trazas del log."
   ]
  },
  {
   "cell_type": "code",
   "execution_count": 103,
   "id": "a65073b5",
   "metadata": {},
   "outputs": [],
   "source": [
    "# Importamos las librerías necesarias para calcular el fitness\n",
    "from pm4py.algo.evaluation.replay_fitness import algorithm as replay_fitness_evaluator\n",
    "from pm4py.algo.evaluation.precision import algorithm as precision_evaluator\n",
    "from pm4py.algo.evaluation.generalization import algorithm as generalization_evaluator\n",
    "from pm4py.algo.evaluation.simplicity import algorithm as simplicity_evaluator"
   ]
  },
  {
   "cell_type": "code",
   "execution_count": null,
   "id": "38937b06",
   "metadata": {},
   "outputs": [
    {
     "name": "stdout",
     "output_type": "stream",
     "text": [
      "=== EVALUACIÓN DEL MODELO DE PETRI ===\n"
     ]
    },
    {
     "name": "stderr",
     "output_type": "stream",
     "text": [
      "replaying log with TBR, completed traces :: 100%|██████████| 2/2 [00:00<00:00, 2774.01it/s]\n",
      "replaying log with TBR, completed traces :: 100%|██████████| 2/2 [00:00<00:00, 2774.01it/s]\n"
     ]
    },
    {
     "name": "stdout",
     "output_type": "stream",
     "text": [
      "Fitness (Token-based): 1.0000\n",
      "Porcentaje de trazas que encajan perfectamente: 100.00%\n"
     ]
    },
    {
     "name": "stderr",
     "output_type": "stream",
     "text": [
      "replaying log with TBR, completed traces :: 100%|██████████| 2/2 [00:00<00:00, 3436.55it/s]\n",
      "replaying log with TBR, completed traces :: 100%|██████████| 2/2 [00:00<00:00, 3436.55it/s]\n"
     ]
    },
    {
     "name": "stdout",
     "output_type": "stream",
     "text": [
      "Precisión: 1.0000\n"
     ]
    },
    {
     "name": "stderr",
     "output_type": "stream",
     "text": [
      "replaying log with TBR, completed traces :: 100%|██████████| 2/2 [00:00<00:00, 3067.13it/s]"
     ]
    },
    {
     "name": "stdout",
     "output_type": "stream",
     "text": [
      "Generalización: 0.0732\n",
      "Simplicidad: 1.0000\n"
     ]
    },
    {
     "name": "stderr",
     "output_type": "stream",
     "text": [
      "\n"
     ]
    }
   ],
   "source": [
    "# Evaluación del modelo de Petri\n",
    "print(\"=== EVALUACIÓN DEL MODELO DE PETRI ===\")\n",
    "\n",
    "# Fitness: mide qué tan bien el modelo puede reproducir las trazas del log\n",
    "fitness_petri = replay_fitness_evaluator.apply(log, red, origenes, finales, variant=replay_fitness_evaluator.Variants.TOKEN_BASED)\n",
    "print(f\"Fitness (Token-based): {fitness_petri['log_fitness']:.4f}\")\n",
    "print(f\"Porcentaje de trazas que encajan perfectamente: {fitness_petri['percentage_of_fitting_traces']:.2f}%\")\n",
    "\n",
    "# Precisión: mide cuánto comportamiento adicional permite el modelo que no está en el log\n",
    "try:\n",
    "    precision_petri = precision_evaluator.apply(log, red, origenes, finales, variant=precision_evaluator.Variants.ETCONFORMANCE_TOKEN)\n",
    "    print(f\"Precisión: {precision_petri:.4f}\")\n",
    "except:\n",
    "    print(\"No se pudo calcular la precisión para este modelo\")\n",
    "\n",
    "# Generalización: mide la capacidad del modelo para generalizar más allá del log observado\n",
    "try:\n",
    "    generalization_petri = generalization_evaluator.apply(log, red, origenes, finales)\n",
    "    print(f\"Generalización: {generalization_petri:.4f}\")\n",
    "except:\n",
    "    print(\"No se pudo calcular la generalización para este modelo\")\n",
    "\n",
    "# Simplicidad: mide la complejidad del modelo\n",
    "try:\n",
    "    simplicity_petri = simplicity_evaluator.apply(red)\n",
    "    print(f\"Simplicidad: {simplicidad_petri:.4f}\")\n",
    "except:\n",
    "    print(\"No se pudo calcular la simplicidad para este modelo\")"
   ]
  },
  {
   "cell_type": "code",
   "execution_count": 105,
   "id": "472214c9",
   "metadata": {},
   "outputs": [
    {
     "name": "stdout",
     "output_type": "stream",
     "text": [
      "\n",
      "=== EVALUACIÓN DEL MODELO BPMN ===\n"
     ]
    },
    {
     "name": "stderr",
     "output_type": "stream",
     "text": [
      "replaying log with TBR, completed traces :: 100%|██████████| 2/2 [00:00<00:00, 2181.13it/s]\n",
      "replaying log with TBR, completed traces :: 100%|██████████| 2/2 [00:00<00:00, 2181.13it/s]\n"
     ]
    },
    {
     "name": "stdout",
     "output_type": "stream",
     "text": [
      "Fitness (Token-based): 1.0000\n",
      "Porcentaje de trazas que encajan perfectamente: 100.00%\n"
     ]
    },
    {
     "name": "stderr",
     "output_type": "stream",
     "text": [
      "replaying log with TBR, completed traces :: 100%|██████████| 2/2 [00:00<00:00, 3656.76it/s]"
     ]
    },
    {
     "name": "stdout",
     "output_type": "stream",
     "text": [
      "Precisión: 1.0000\n"
     ]
    },
    {
     "name": "stderr",
     "output_type": "stream",
     "text": [
      "\n"
     ]
    }
   ],
   "source": [
    "# Evaluación del modelo BPMN (convertimos primero a Petri para la evaluación)\n",
    "print(\"\\n=== EVALUACIÓN DEL MODELO BPMN ===\")\n",
    "\n",
    "# Para evaluar BPMN, primero lo convertimos a red de Petri\n",
    "from pm4py.objects.conversion.bpmn import converter as bpmn_converter\n",
    "try:\n",
    "    red_desde_bpmn, origenes_bpmn, finales_bpmn = bpmn_converter.apply(modelo_bpmn, variant=bpmn_converter.Variants.TO_PETRI_NET)\n",
    "    \n",
    "    # Fitness del modelo BPMN\n",
    "    fitness_bpmn = replay_fitness_evaluator.apply(log, red_desde_bpmn, origenes_bpmn, finales_bpmn, variant=replay_fitness_evaluator.Variants.TOKEN_BASED)\n",
    "    print(f\"Fitness (Token-based): {fitness_bpmn['log_fitness']:.4f}\")\n",
    "    print(f\"Porcentaje de trazas que encajan perfectamente: {fitness_bpmn['percentage_of_fitting_traces']:.2f}%\")\n",
    "    \n",
    "    # Precisión del modelo BPMN\n",
    "    try:\n",
    "        precision_bpmn = precision_evaluator.apply(log, red_desde_bpmn, origenes_bpmn, finales_bpmn, variant=precision_evaluator.Variants.ETCONFORMANCE_TOKEN)\n",
    "        print(f\"Precisión: {precision_bpmn:.4f}\")\n",
    "    except:\n",
    "        print(\"No se pudo calcular la precisión para el modelo BPMN\")\n",
    "    \n",
    "except Exception as e:\n",
    "    print(f\"Error al evaluar el modelo BPMN: {e}\")\n",
    "    print(\"Nota: Los modelos Petri y BPMN generados del mismo process tree deberían tener métricas similares\")"
   ]
  },
  {
   "cell_type": "markdown",
   "id": "1af82fb5",
   "metadata": {},
   "source": [
    "### Interpretación de las Métricas de Calidad\n",
    "\n",
    "- **Fitness (0-1)**: Mide qué tan bien el modelo puede reproducir las trazas del log. 1.0 = perfecto.\n",
    "- **Precisión (0-1)**: Mide cuánto comportamiento \"extra\" permite el modelo que no aparece en el log. Valores altos = modelo más preciso.\n",
    "- **Generalización (0-1)**: Mide la capacidad del modelo para manejar comportamiento no visto. Valores altos = mejor generalización.\n",
    "- **Simplicidad (0-1)**: Mide la complejidad del modelo. Valores altos = modelo más simple.\n",
    "\n",
    "**Balance ideal**: Un buen modelo de proceso debe tener altos valores en las cuatro dimensiones, aunque a menudo hay trade-offs entre ellas."
   ]
  },
  {
   "cell_type": "code",
   "execution_count": 106,
   "id": "5152a0fb",
   "metadata": {},
   "outputs": [
    {
     "name": "stdout",
     "output_type": "stream",
     "text": [
      "\n",
      "=== ANÁLISIS DETALLADO DE CONFORMIDAD ===\n",
      "¡Excelente! El modelo tiene un fitness perfecto de 1.0\n",
      "Todas las trazas del log pueden ser reproducidas por el modelo.\n"
     ]
    }
   ],
   "source": [
    "# Análisis detallado de conformidad - casos que no encajan\n",
    "print(\"\\n=== ANÁLISIS DETALLADO DE CONFORMIDAD ===\")\n",
    "\n",
    "if fitness_petri['log_fitness'] < 1.0:\n",
    "    print(f\"El modelo tiene un fitness de {fitness_petri['log_fitness']:.4f}, lo que significa que no todas las trazas encajan perfectamente.\")\n",
    "    print(f\"Número de trazas que no encajan: {len(log) - int(len(log) * fitness_petri['percentage_of_fitting_traces'] / 100)}\")\n",
    "    \n",
    "    # Mostrar algunas trazas problemáticas si las hay\n",
    "    print(\"\\nEsto puede indicar:\")\n",
    "    print(\"- Ruido en los datos\")\n",
    "    print(\"- Comportamiento excepcional no capturado por el modelo\")\n",
    "    print(\"- Necesidad de usar un algoritmo de descubrimiento diferente\")\n",
    "else:\n",
    "    print(\"¡Excelente! El modelo tiene un fitness perfecto de 1.0\")\n",
    "    print(\"Todas las trazas del log pueden ser reproducidas por el modelo.\")"
   ]
  },
  {
   "cell_type": "code",
   "execution_count": 107,
   "id": "0e2db04f",
   "metadata": {},
   "outputs": [
    {
     "name": "stdout",
     "output_type": "stream",
     "text": [
      "\n",
      "=== ANÁLISIS DE RENDIMIENTO POR ACTIVIDAD ===\n",
      "\n",
      "Resumen de actividades:\n",
      "------------------------------------------------------------\n",
      "Actividad            Frecuencia   Casos    %Casos  \n",
      "------------------------------------------------------------\n",
      "Pedido recibido      2            2         100.0%\n",
      "Validación           1            1          50.0%\n",
      "Aprobación           1            1          50.0%\n",
      "Rechazo              1            1          50.0%\n",
      "\n",
      "💡 Interpretación:\n",
      "- Frecuencia: Número total de veces que se ejecuta la actividad\n",
      "- Casos: En cuántos casos diferentes aparece la actividad\n",
      "- %Casos: Porcentaje de casos que incluyen esta actividad\n",
      "\n",
      "🎯 Las actividades con alta frecuencia pero pocos casos únicos pueden indicar repeticiones o bucles\n"
     ]
    }
   ],
   "source": [
    "# Visualización mejorada con métricas de rendimiento\n",
    "print(\"\\n=== ANÁLISIS DE RENDIMIENTO POR ACTIVIDAD ===\")\n",
    "\n",
    "# Crear un resumen de métricas por actividad\n",
    "actividades_metricas = {}\n",
    "\n",
    "for trace in log:\n",
    "    for event in trace:\n",
    "        actividad = event[\"concept:name\"]\n",
    "        if actividad not in actividades_metricas:\n",
    "            actividades_metricas[actividad] = {\n",
    "                'frecuencia': 0,\n",
    "                'casos_unicos': set()\n",
    "            }\n",
    "        \n",
    "        actividades_metricas[actividad]['frecuencia'] += 1\n",
    "        # Añadir el ID del caso (trace) a los casos únicos\n",
    "        if hasattr(trace, 'attributes') and 'concept:name' in trace.attributes:\n",
    "            actividades_metricas[actividad]['casos_unicos'].add(trace.attributes['concept:name'])\n",
    "\n",
    "# Mostrar resumen de métricas\n",
    "print(\"\\nResumen de actividades:\")\n",
    "print(\"-\" * 60)\n",
    "print(f\"{'Actividad':<20} {'Frecuencia':<12} {'Casos':<8} {'%Casos':<8}\")\n",
    "print(\"-\" * 60)\n",
    "\n",
    "for actividad, metricas in sorted(actividades_metricas.items(), key=lambda x: x[1]['frecuencia'], reverse=True):\n",
    "    frecuencia = metricas['frecuencia']\n",
    "    casos_unicos = len(metricas['casos_unicos']) if metricas['casos_unicos'] else frecuencia  # fallback\n",
    "    porcentaje_casos = (casos_unicos / len(log)) * 100 if len(log) > 0 else 0\n",
    "    \n",
    "    print(f\"{actividad:<20} {frecuencia:<12} {casos_unicos:<8} {porcentaje_casos:>6.1f}%\")\n",
    "\n",
    "print(\"\\n💡 Interpretación:\")\n",
    "print(\"- Frecuencia: Número total de veces que se ejecuta la actividad\")\n",
    "print(\"- Casos: En cuántos casos diferentes aparece la actividad\")\n",
    "print(\"- %Casos: Porcentaje de casos que incluyen esta actividad\")\n",
    "print(\"\\n🎯 Las actividades con alta frecuencia pero pocos casos únicos pueden indicar repeticiones o bucles\")"
   ]
  },
  {
   "cell_type": "markdown",
   "id": "06b1a70a",
   "metadata": {},
   "source": [
    "## Simulación del Proceso\n",
    "\n",
    "Ahora vamos a simular el proceso para analizar su comportamiento bajo diferentes condiciones. La simulación nos permite:\n",
    "\n",
    "- **Predecir el rendimiento** del proceso con diferentes cargas de trabajo\n",
    "- **Identificar cuellos de botella** antes de que ocurran en la realidad\n",
    "- **Optimizar recursos** y tiempos de respuesta\n",
    "- **Evaluar escenarios hipotéticos** de mejora del proceso\n",
    "\n",
    "Utilizaremos el modelo BPMN que hemos generado como base para la simulación."
   ]
  },
  {
   "cell_type": "code",
   "execution_count": 108,
   "id": "dd0d4007",
   "metadata": {},
   "outputs": [
    {
     "name": "stdout",
     "output_type": "stream",
     "text": [
      "=== CONFIGURACIÓN DE LA SIMULACIÓN ===\n",
      "✓ Configuración cargada para 4 actividades\n",
      "✓ 4 recursos configurados\n",
      "✓ 3 reglas de transición definidas\n"
     ]
    }
   ],
   "source": [
    "# Configuración de parámetros para la simulación\n",
    "import random\n",
    "import numpy as np\n",
    "from datetime import datetime, timedelta\n",
    "import pandas as pd\n",
    "from collections import defaultdict\n",
    "\n",
    "print(\"=== CONFIGURACIÓN DE LA SIMULACIÓN ===\")\n",
    "\n",
    "# Parámetros base extraídos del log real\n",
    "actividades_duraciones = {\n",
    "    'Pedido recibido': {'min': 300, 'max': 900, 'media': 600},      # 5-15 min, media 10 min\n",
    "    'Validación': {'min': 1800, 'max': 7200, 'media': 3600},        # 30 min - 2h, media 1h\n",
    "    'Aprobación': {'min': 900, 'max': 5400, 'media': 2700},         # 15 min - 1.5h, media 45 min\n",
    "    'Rechazo': {'min': 300, 'max': 1800, 'media': 900}              # 5-30 min, media 15 min\n",
    "}\n",
    "\n",
    "# Probabilidades de transición basadas en el log\n",
    "probabilidades = {\n",
    "    'Pedido recibido -> Validación': 0.5,  # 50% va a validación\n",
    "    'Pedido recibido -> Rechazo': 0.5,     # 50% rechazo directo\n",
    "    'Validación -> Aprobación': 1.0,       # 100% de validaciones se aprueban\n",
    "}\n",
    "\n",
    "# Recursos disponibles\n",
    "recursos = {\n",
    "    'Ana': ['Pedido recibido'],\n",
    "    'Pedro': ['Validación'],\n",
    "    'Juan': ['Aprobación'],\n",
    "    'Marta': ['Rechazo']\n",
    "}\n",
    "\n",
    "print(f\"✓ Configuración cargada para {len(actividades_duraciones)} actividades\")\n",
    "print(f\"✓ {len(recursos)} recursos configurados\")\n",
    "print(f\"✓ {len(probabilidades)} reglas de transición definidas\")"
   ]
  },
  {
   "cell_type": "code",
   "execution_count": 109,
   "id": "1b7bb38b",
   "metadata": {},
   "outputs": [
    {
     "name": "stdout",
     "output_type": "stream",
     "text": [
      "\n",
      "🚀 Iniciando simulación de 50 casos...\n",
      "  ✓ Procesados 10/50 casos\n",
      "  ✓ Procesados 20/50 casos\n",
      "  ✓ Procesados 30/50 casos\n",
      "  ✓ Procesados 40/50 casos\n",
      "  ✓ Procesados 50/50 casos\n",
      "\n",
      "🎉 Simulación completada. 50 casos procesados.\n",
      "\n",
      "📊 Resultados de la simulación:\n",
      "   - Total de casos simulados: 50\n",
      "   - Total de eventos generados: 125\n"
     ]
    }
   ],
   "source": [
    "# Motor de simulación del proceso\n",
    "class SimuladorProceso:\n",
    "    def __init__(self, actividades_duraciones, probabilidades, recursos):\n",
    "        self.actividades_duraciones = actividades_duraciones\n",
    "        self.probabilidades = probabilidades\n",
    "        self.recursos = recursos\n",
    "        self.cola_casos = []\n",
    "        self.casos_completados = []\n",
    "        self.recursos_ocupados = {recurso: None for recurso in recursos.keys()}\n",
    "        self.tiempo_actual = datetime.now()\n",
    "        self.eventos_log = []\n",
    "        \n",
    "    def generar_duracion_actividad(self, actividad):\n",
    "        \"\"\"Genera una duración aleatoria para una actividad usando distribución normal truncada\"\"\"\n",
    "        params = self.actividades_duraciones[actividad]\n",
    "        # Usar distribución normal con límites\n",
    "        duracion = np.random.normal(params['media'], params['media'] * 0.3)\n",
    "        # Truncar entre min y max\n",
    "        duracion = max(params['min'], min(params['max'], duracion))\n",
    "        return int(duracion)\n",
    "    \n",
    "    def decidir_siguiente_actividad(self, actividad_actual):\n",
    "        \"\"\"Decide la siguiente actividad basada en probabilidades\"\"\"\n",
    "        if actividad_actual == 'Pedido recibido':\n",
    "            return 'Validación' if random.random() < self.probabilidades['Pedido recibido -> Validación'] else 'Rechazo'\n",
    "        elif actividad_actual == 'Validación':\n",
    "            return 'Aprobación'\n",
    "        else:\n",
    "            return None  # Fin del proceso\n",
    "    \n",
    "    def asignar_recurso(self, actividad):\n",
    "        \"\"\"Asigna un recurso disponible para la actividad\"\"\"\n",
    "        for recurso, actividades in self.recursos.items():\n",
    "            if actividad in actividades and self.recursos_ocupados[recurso] is None:\n",
    "                return recurso\n",
    "        return None  # No hay recursos disponibles\n",
    "    \n",
    "    def simular_caso(self, caso_id, tiempo_llegada):\n",
    "        \"\"\"Simula un caso completo del proceso\"\"\"\n",
    "        caso = {\n",
    "            'id': caso_id,\n",
    "            'tiempo_llegada': tiempo_llegada,\n",
    "            'actividades': [],\n",
    "            'tiempo_total': 0,\n",
    "            'estado': 'iniciado'\n",
    "        }\n",
    "        \n",
    "        actividad_actual = 'Pedido recibido'\n",
    "        tiempo_evento = tiempo_llegada\n",
    "        \n",
    "        while actividad_actual:\n",
    "            # Asignar recurso\n",
    "            recurso = self.asignar_recurso(actividad_actual)\n",
    "            if recurso is None:\n",
    "                # No hay recursos disponibles, agregar a cola\n",
    "                caso['estado'] = 'en_cola'\n",
    "                return caso\n",
    "            \n",
    "            # Ejecutar actividad\n",
    "            duracion = self.generar_duracion_actividad(actividad_actual)\n",
    "            tiempo_inicio = tiempo_evento\n",
    "            tiempo_fin = tiempo_inicio + timedelta(seconds=duracion)\n",
    "            \n",
    "            # Registrar evento\n",
    "            evento = {\n",
    "                'caso_id': caso_id,\n",
    "                'actividad': actividad_actual,\n",
    "                'recurso': recurso,\n",
    "                'tiempo_inicio': tiempo_inicio,\n",
    "                'tiempo_fin': tiempo_fin,\n",
    "                'duracion': duracion\n",
    "            }\n",
    "            \n",
    "            caso['actividades'].append(evento)\n",
    "            self.eventos_log.append(evento)\n",
    "            \n",
    "            # Actualizar tiempo y decidir siguiente actividad\n",
    "            tiempo_evento = tiempo_fin\n",
    "            actividad_actual = self.decidir_siguiente_actividad(actividad_actual)\n",
    "        \n",
    "        caso['tiempo_total'] = (tiempo_evento - tiempo_llegada).total_seconds()\n",
    "        caso['estado'] = 'completado'\n",
    "        return caso\n",
    "    \n",
    "    def ejecutar_simulacion(self, num_casos, intervalo_llegadas_min=30):\n",
    "        \"\"\"Ejecuta la simulación completa\"\"\"\n",
    "        print(f\"\\n🚀 Iniciando simulación de {num_casos} casos...\")\n",
    "        \n",
    "        tiempo_base = datetime.now()\n",
    "        \n",
    "        for i in range(num_casos):\n",
    "            # Tiempo de llegada del caso (llegadas cada X minutos en promedio)\n",
    "            tiempo_llegada = tiempo_base + timedelta(minutes=i * intervalo_llegadas_min + random.randint(-10, 10))\n",
    "            \n",
    "            # Simular caso\n",
    "            caso = self.simular_caso(f\"CASO_{i+1:03d}\", tiempo_llegada)\n",
    "            self.casos_completados.append(caso)\n",
    "            \n",
    "            if (i + 1) % 10 == 0:\n",
    "                print(f\"  ✓ Procesados {i+1}/{num_casos} casos\")\n",
    "        \n",
    "        print(f\"\\n🎉 Simulación completada. {len(self.casos_completados)} casos procesados.\")\n",
    "        return self.casos_completados, self.eventos_log\n",
    "\n",
    "# Crear y ejecutar simulación\n",
    "simulador = SimuladorProceso(actividades_duraciones, probabilidades, recursos)\n",
    "casos_simulados, eventos_simulados = simulador.ejecutar_simulacion(num_casos=50, intervalo_llegadas_min=15)\n",
    "\n",
    "print(f\"\\n📊 Resultados de la simulación:\")\n",
    "print(f\"   - Total de casos simulados: {len(casos_simulados)}\")\n",
    "print(f\"   - Total de eventos generados: {len(eventos_simulados)}\")"
   ]
  },
  {
   "cell_type": "code",
   "execution_count": 110,
   "id": "8d55c0b5",
   "metadata": {},
   "outputs": [
    {
     "name": "stdout",
     "output_type": "stream",
     "text": [
      "=== ANÁLISIS DE RESULTADOS DE LA SIMULACIÓN ===\n",
      "\n",
      "1. TIEMPOS DE PROCESAMIENTO:\n",
      "   - Tiempo promedio por caso: 1.15 horas\n",
      "   - Tiempo mínimo: 0.24 horas\n",
      "   - Tiempo máximo: 2.89 horas\n",
      "   - Mediana: 0.90 horas\n",
      "   - Desviación estándar: 0.78 horas\n",
      "\n",
      "2. ESTADÍSTICAS POR ACTIVIDAD:\n",
      "   Pedido recibido:\n",
      "     - Ejecutada 50 veces\n",
      "     - Duración promedio: 10.3 minutos\n",
      "     - Rango: 5.0 - 15.0 minutos\n",
      "   Validación:\n",
      "     - Ejecutada 25 veces\n",
      "     - Duración promedio: 61.4 minutos\n",
      "     - Rango: 30.0 - 113.5 minutos\n",
      "   Aprobación:\n",
      "     - Ejecutada 25 veces\n",
      "     - Duración promedio: 41.0 minutos\n",
      "     - Rango: 20.4 - 58.2 minutos\n",
      "   Rechazo:\n",
      "     - Ejecutada 25 veces\n",
      "     - Duración promedio: 15.0 minutos\n",
      "     - Rango: 5.9 - 24.6 minutos\n",
      "\n",
      "3. UTILIZACIÓN DE RECURSOS:\n",
      "   Ana:\n",
      "     - Actividades realizadas: 50\n",
      "     - Tiempo total de trabajo: 8.54 horas\n",
      "     - Tiempo promedio por actividad: 10.3 minutos\n",
      "   Pedro:\n",
      "     - Actividades realizadas: 25\n",
      "     - Tiempo total de trabajo: 25.58 horas\n",
      "     - Tiempo promedio por actividad: 61.4 minutos\n",
      "   Juan:\n",
      "     - Actividades realizadas: 25\n",
      "     - Tiempo total de trabajo: 17.09 horas\n",
      "     - Tiempo promedio por actividad: 41.0 minutos\n",
      "   Marta:\n",
      "     - Actividades realizadas: 25\n",
      "     - Tiempo total de trabajo: 6.27 horas\n",
      "     - Tiempo promedio por actividad: 15.0 minutos\n",
      "\n",
      "4. VARIANTES DEL PROCESO SIMULADO:\n",
      "   Pedido recibido → Validación → Aprobación: 25 casos (50.0%)\n",
      "   Pedido recibido → Rechazo: 25 casos (50.0%)\n"
     ]
    }
   ],
   "source": [
    "# Análisis de resultados de la simulación\n",
    "import matplotlib.pyplot as plt\n",
    "import seaborn as sns\n",
    "\n",
    "print(\"=== ANÁLISIS DE RESULTADOS DE LA SIMULACIÓN ===\")\n",
    "\n",
    "# 1. Estadísticas de tiempo por caso\n",
    "tiempos_casos = [caso['tiempo_total'] for caso in casos_simulados if caso['estado'] == 'completado']\n",
    "tiempos_horas = [t/3600 for t in tiempos_casos]  # Convertir a horas\n",
    "\n",
    "print(f\"\\n1. TIEMPOS DE PROCESAMIENTO:\")\n",
    "print(f\"   - Tiempo promedio por caso: {np.mean(tiempos_horas):.2f} horas\")\n",
    "print(f\"   - Tiempo mínimo: {np.min(tiempos_horas):.2f} horas\")\n",
    "print(f\"   - Tiempo máximo: {np.max(tiempos_horas):.2f} horas\")\n",
    "print(f\"   - Mediana: {np.median(tiempos_horas):.2f} horas\")\n",
    "print(f\"   - Desviación estándar: {np.std(tiempos_horas):.2f} horas\")\n",
    "\n",
    "# 2. Análisis de actividades\n",
    "actividades_stats = defaultdict(list)\n",
    "for evento in eventos_simulados:\n",
    "    actividades_stats[evento['actividad']].append(evento['duracion'])\n",
    "\n",
    "print(f\"\\n2. ESTADÍSTICAS POR ACTIVIDAD:\")\n",
    "for actividad, duraciones in actividades_stats.items():\n",
    "    duraciones_min = [d/60 for d in duraciones]  # Convertir a minutos\n",
    "    print(f\"   {actividad}:\")\n",
    "    print(f\"     - Ejecutada {len(duraciones)} veces\")\n",
    "    print(f\"     - Duración promedio: {np.mean(duraciones_min):.1f} minutos\")\n",
    "    print(f\"     - Rango: {np.min(duraciones_min):.1f} - {np.max(duraciones_min):.1f} minutos\")\n",
    "\n",
    "# 3. Análisis de recursos\n",
    "recursos_stats = defaultdict(list)\n",
    "for evento in eventos_simulados:\n",
    "    recursos_stats[evento['recurso']].append(evento['duracion'])\n",
    "\n",
    "print(f\"\\n3. UTILIZACIÓN DE RECURSOS:\")\n",
    "for recurso, duraciones in recursos_stats.items():\n",
    "    tiempo_total_trabajo = sum(duraciones) / 3600  # horas\n",
    "    print(f\"   {recurso}:\")\n",
    "    print(f\"     - Actividades realizadas: {len(duraciones)}\")\n",
    "    print(f\"     - Tiempo total de trabajo: {tiempo_total_trabajo:.2f} horas\")\n",
    "    print(f\"     - Tiempo promedio por actividad: {np.mean(duraciones)/60:.1f} minutos\")\n",
    "\n",
    "# 4. Análisis de variantes del proceso simulado\n",
    "variantes_simuladas = defaultdict(int)\n",
    "for caso in casos_simulados:\n",
    "    if caso['estado'] == 'completado':\n",
    "        variante = tuple([act['actividad'] for act in caso['actividades']])\n",
    "        variantes_simuladas[variante] += 1\n",
    "\n",
    "print(f\"\\n4. VARIANTES DEL PROCESO SIMULADO:\")\n",
    "for variante, frecuencia in sorted(variantes_simuladas.items(), key=lambda x: x[1], reverse=True):\n",
    "    porcentaje = (frecuencia / len([c for c in casos_simulados if c['estado'] == 'completado'])) * 100\n",
    "    print(f\"   {' → '.join(variante)}: {frecuencia} casos ({porcentaje:.1f}%)\")"
   ]
  },
  {
   "cell_type": "code",
   "execution_count": 111,
   "id": "26d31db9",
   "metadata": {},
   "outputs": [
    {
     "data": {
      "image/png": "[encoded data removed]",
      "text/plain": [
       "<Figure size 1500x1200 with 4 Axes>"
      ]
     },
     "metadata": {},
     "output_type": "display_data"
    },
    {
     "name": "stdout",
     "output_type": "stream",
     "text": [
      "\n",
      "📈 Gráficos de simulación guardados como 'simulacion_resultados.png'\n"
     ]
    }
   ],
   "source": [
    "# Visualizaciones de la simulación\n",
    "plt.style.use('default')\n",
    "fig, ((ax1, ax2), (ax3, ax4)) = plt.subplots(2, 2, figsize=(15, 12))\n",
    "fig.suptitle('Resultados de la Simulación del Proceso', fontsize=16, fontweight='bold')\n",
    "\n",
    "# 1. Distribución de tiempos de casos\n",
    "ax1.hist(tiempos_horas, bins=15, alpha=0.7, color='skyblue', edgecolor='black')\n",
    "ax1.set_xlabel('Tiempo total (horas)')\n",
    "ax1.set_ylabel('Número de casos')\n",
    "ax1.set_title('Distribución de Tiempos de Procesamiento')\n",
    "ax1.axvline(np.mean(tiempos_horas), color='red', linestyle='--', label=f'Media: {np.mean(tiempos_horas):.2f}h')\n",
    "ax1.legend()\n",
    "\n",
    "# 2. Duración promedio por actividad\n",
    "actividades_nombres = list(actividades_stats.keys())\n",
    "actividades_promedios = [np.mean(duraciones)/60 for duraciones in actividades_stats.values()]\n",
    "\n",
    "ax2.bar(actividades_nombres, actividades_promedios, color=['#FF9999', '#66B2FF', '#99FF99', '#FFCC99'])\n",
    "ax2.set_xlabel('Actividad')\n",
    "ax2.set_ylabel('Duración promedio (minutos)')\n",
    "ax2.set_title('Duración Promedio por Actividad')\n",
    "ax2.tick_params(axis='x', rotation=45)\n",
    "\n",
    "# 3. Carga de trabajo por recurso\n",
    "recursos_nombres = list(recursos_stats.keys())\n",
    "recursos_cargas = [len(duraciones) for duraciones in recursos_stats.values()]\n",
    "\n",
    "ax3.pie(recursos_cargas, labels=recursos_nombres, autopct='%1.1f%%', startangle=90)\n",
    "ax3.set_title('Distribución de Carga de Trabajo por Recurso')\n",
    "\n",
    "# 4. Timeline de casos (primeros 10 casos)\n",
    "colores_actividades = {\n",
    "    'Pedido recibido': '#FF9999',\n",
    "    'Validación': '#66B2FF', \n",
    "    'Aprobación': '#99FF99',\n",
    "    'Rechazo': '#FFCC99'\n",
    "}\n",
    "\n",
    "for i, caso in enumerate(casos_simulados[:10]):\n",
    "    if caso['estado'] == 'completado':\n",
    "        for j, actividad in enumerate(caso['actividades']):\n",
    "            inicio = actividad['tiempo_inicio']\n",
    "            duracion = actividad['duracion'] / 3600  # convertir a horas\n",
    "            ax4.barh(i, duracion, left=(inicio - casos_simulados[0]['tiempo_llegada']).total_seconds()/3600, \n",
    "                    color=colores_actividades.get(actividad['actividad'], 'gray'), \n",
    "                    alpha=0.8, height=0.6)\n",
    "\n",
    "ax4.set_xlabel('Tiempo (horas desde inicio)')\n",
    "ax4.set_ylabel('Caso #')\n",
    "ax4.set_title('Timeline de Ejecución (Primeros 10 Casos)')\n",
    "ax4.set_yticks(range(10))\n",
    "ax4.set_yticklabels([f\"Caso {i+1}\" for i in range(10)])\n",
    "\n",
    "# Leyenda para el timeline\n",
    "legend_elements = [plt.Rectangle((0,0),1,1, color=color, alpha=0.8, label=actividad) \n",
    "                  for actividad, color in colores_actividades.items()]\n",
    "ax4.legend(handles=legend_elements, loc='upper right', bbox_to_anchor=(1.15, 1))\n",
    "\n",
    "plt.tight_layout()\n",
    "plt.savefig('simulacion_resultados.png', dpi=300, bbox_inches='tight')\n",
    "plt.show()\n",
    "\n",
    "print(\"\\n📈 Gráficos de simulación guardados como 'simulacion_resultados.png'\")"
   ]
  },
  {
   "cell_type": "code",
   "execution_count": 112,
   "id": "d1828405",
   "metadata": {},
   "outputs": [
    {
     "name": "stdout",
     "output_type": "stream",
     "text": [
      "=== EXPORTACIÓN DE RESULTADOS ===\n",
      "\n",
      "📁 Archivos exportados:\n",
      "   ✓ simulacion_eventos.csv - Detalle de todos los eventos simulados\n",
      "   ✓ simulacion_casos.csv - Resumen por caso\n",
      "   ✓ simulacion_metricas.csv - Métricas agregadas\n",
      "   ✓ simulacion_resultados.png - Gráficos de análisis\n",
      "\n",
      "============================================================\n",
      "🎯 RESUMEN EJECUTIVO DE LA SIMULACIÓN\n",
      "============================================================\n",
      "📊 Se simularon 50 casos del proceso\n",
      "⏱️  Tiempo promedio de procesamiento: 1.15 horas\n",
      "🔄 Se identificaron 2 variantes diferentes del proceso\n",
      "👥 Se utilizaron 4 recursos diferentes\n",
      "\n",
      "🏆 Actividad más frecuente: Pedido recibido\n",
      "⚡ Recurso más utilizado: Ana\n",
      "\n",
      "💡 Conclusiones:\n",
      "   ✅ El proceso es eficiente con tiempos de respuesta bajos\n",
      "   ✅ El proceso es consistente con pocas variantes\n",
      "\n",
      "🚀 La simulación proporciona una base sólida para la optimización del proceso\n",
      "============================================================\n"
     ]
    }
   ],
   "source": [
    "# Exportar resultados de la simulación\n",
    "print(\"=== EXPORTACIÓN DE RESULTADOS ===\")\n",
    "\n",
    "# 1. Crear DataFrame con eventos simulados\n",
    "eventos_df = pd.DataFrame([\n",
    "    {\n",
    "        'caso_id': evento['caso_id'],\n",
    "        'actividad': evento['actividad'],\n",
    "        'recurso': evento['recurso'],\n",
    "        'tiempo_inicio': evento['tiempo_inicio'],\n",
    "        'tiempo_fin': evento['tiempo_fin'],\n",
    "        'duracion_segundos': evento['duracion'],\n",
    "        'duracion_minutos': evento['duracion'] / 60\n",
    "    }\n",
    "    for evento in eventos_simulados\n",
    "])\n",
    "\n",
    "# 2. Crear DataFrame con resumen de casos\n",
    "casos_df = pd.DataFrame([\n",
    "    {\n",
    "        'caso_id': caso['id'],\n",
    "        'tiempo_llegada': caso['tiempo_llegada'],\n",
    "        'num_actividades': len(caso['actividades']),\n",
    "        'tiempo_total_segundos': caso['tiempo_total'],\n",
    "        'tiempo_total_horas': caso['tiempo_total'] / 3600,\n",
    "        'estado': caso['estado'],\n",
    "        'variante': ' → '.join([act['actividad'] for act in caso['actividades']]) if caso['actividades'] else 'Sin actividades'\n",
    "    }\n",
    "    for caso in casos_simulados\n",
    "])\n",
    "\n",
    "# 3. Crear DataFrame con métricas resumen\n",
    "metricas_df = pd.DataFrame([\n",
    "    {'Métrica': 'Casos totales simulados', 'Valor': len(casos_simulados), 'Unidad': 'casos'},\n",
    "    {'Métrica': 'Casos completados', 'Valor': len([c for c in casos_simulados if c['estado'] == 'completado']), 'Unidad': 'casos'},\n",
    "    {'Métrica': 'Tiempo promedio por caso', 'Valor': round(np.mean(tiempos_horas), 2), 'Unidad': 'horas'},\n",
    "    {'Métrica': 'Tiempo máximo por caso', 'Valor': round(np.max(tiempos_horas), 2), 'Unidad': 'horas'},\n",
    "    {'Métrica': 'Tiempo mínimo por caso', 'Valor': round(np.min(tiempos_horas), 2), 'Unidad': 'horas'},\n",
    "    {'Métrica': 'Throughput promedio', 'Valor': round(len(casos_simulados) / (max(tiempos_casos) / 3600), 2), 'Unidad': 'casos/hora'},\n",
    "    {'Métrica': 'Variantes diferentes', 'Valor': len(variantes_simuladas), 'Unidad': 'variantes'},\n",
    "    {'Métrica': 'Recursos utilizados', 'Valor': len(recursos_stats), 'Unidad': 'recursos'}\n",
    "])\n",
    "\n",
    "# 4. Guardar archivos\n",
    "eventos_df.to_csv('simulacion_eventos.csv', index=False)\n",
    "casos_df.to_csv('simulacion_casos.csv', index=False)\n",
    "metricas_df.to_csv('simulacion_metricas.csv', index=False)\n",
    "\n",
    "print(\"\\n📁 Archivos exportados:\")\n",
    "print(\"   ✓ simulacion_eventos.csv - Detalle de todos los eventos simulados\")\n",
    "print(\"   ✓ simulacion_casos.csv - Resumen por caso\")\n",
    "print(\"   ✓ simulacion_metricas.csv - Métricas agregadas\")\n",
    "print(\"   ✓ simulacion_resultados.png - Gráficos de análisis\")\n",
    "\n",
    "# 5. Mostrar resumen final\n",
    "print(\"\\n\" + \"=\"*60)\n",
    "print(\"🎯 RESUMEN EJECUTIVO DE LA SIMULACIÓN\")\n",
    "print(\"=\"*60)\n",
    "print(f\"📊 Se simularon {len(casos_simulados)} casos del proceso\")\n",
    "print(f\"⏱️  Tiempo promedio de procesamiento: {np.mean(tiempos_horas):.2f} horas\")\n",
    "print(f\"🔄 Se identificaron {len(variantes_simuladas)} variantes diferentes del proceso\")\n",
    "print(f\"👥 Se utilizaron {len(recursos_stats)} recursos diferentes\")\n",
    "print(f\"\\n🏆 Actividad más frecuente: {max(actividades_stats.keys(), key=lambda k: len(actividades_stats[k]))}\")\n",
    "print(f\"⚡ Recurso más utilizado: {max(recursos_stats.keys(), key=lambda k: len(recursos_stats[k]))}\")\n",
    "\n",
    "print(\"\\n💡 Conclusiones:\")\n",
    "if np.mean(tiempos_horas) < 2:\n",
    "    print(\"   ✅ El proceso es eficiente con tiempos de respuesta bajos\")\n",
    "else:\n",
    "    print(\"   ⚠️  El proceso podría beneficiarse de optimizaciones\")\n",
    "\n",
    "if len(variantes_simuladas) <= 2:\n",
    "    print(\"   ✅ El proceso es consistente con pocas variantes\")\n",
    "else:\n",
    "    print(\"   ⚠️  El proceso tiene múltiples variantes, revisar estandarización\")\n",
    "\n",
    "print(\"\\n🚀 La simulación proporciona una base sólida para la optimización del proceso\")\n",
    "print(\"=\"*60)"
   ]
  },
  {
   "cell_type": "markdown",
   "id": "196caf0a",
   "metadata": {},
   "source": [
    "# 6. Process Enhancement - Mejora de Procesos\n",
    "\n",
    "El **Process Enhancement** es el tercer pilar del process mining. Una vez que hemos:\n",
    "1. **Descubierto** nuestro proceso (Discovery)\n",
    "2. **Verificado** su conformidad (Conformance)\n",
    "\n",
    "Ahora podemos **mejorarlo** usando técnicas de enhancement.\n",
    "\n",
    "PM4py ofrece varias capacidades nativas para mejorar procesos:\n",
    "- **Análisis de performance**: Identificar cuellos de botella\n",
    "- **Análisis de recursos**: Optimizar asignación de recursos\n",
    "- **Predicción**: Predecir problemas antes de que ocurran\n",
    "- **Recomendaciones**: Sugerir próximas actividades óptimas\n",
    "- **Optimización**: Encontrar variantes más eficientes"
   ]
  },
  {
   "cell_type": "code",
   "execution_count": null,
   "id": "160904b7",
   "metadata": {},
   "outputs": [],
   "source": []
  },
  {
   "cell_type": "markdown",
   "id": "6cfcf7d8",
   "metadata": {},
   "source": [
    "## Enhancement con PM4py: Performance Spectrum\n",
    "\n",
    "Vamos a utilizar el módulo de performance spectrum de pm4py para identificar cuellos de botella y analizar los tiempos de espera entre actividades."
   ]
  },
  {
   "cell_type": "code",
   "execution_count": null,
   "id": "d756e5d7",
   "metadata": {},
   "outputs": [
    {
     "ename": "",
     "evalue": "",
     "output_type": "error",
     "traceback": [
      "\u001b[1;31mRunning cells with 'Python 3.9.6' requires the ipykernel package.\n",
      "\u001b[1;31m<a href='command:jupyter.createPythonEnvAndSelectController'>Create a Python Environment</a> with the required packages.\n",
      "\u001b[1;31mOr install 'ipykernel' using the command: '/usr/bin/python3 -m pip install ipykernel -U --user --force-reinstall'"
     ]
    }
   ],
   "source": [
    "from pm4py.statistics.performance_spectrum import performance_spectrum\n",
    "import matplotlib.pyplot as plt\n",
    "import pandas as pd\n",
    "\n",
    "# Calculamos el performance spectrum del log\n",
    "enhancement_ps = performance_spectrum.apply(log)\n",
    "\n",
    "# Mostramos el performance spectrum como DataFrame\n",
    "ps_df = pd.DataFrame(enhancement_ps)\n",
    "print(\"Performance Spectrum (tiempos entre actividades):\")\n",
    "print(ps_df.head())\n",
    "\n",
    "# Visualización de los tiempos de espera entre actividades\n",
    "if not ps_df.empty:\n",
    "    plt.figure(figsize=(10,6))\n",
    "    for act_pair in ps_df['activity_pair'].unique():\n",
    "        subset = ps_df[ps_df['activity_pair'] == act_pair]\n",
    "        plt.scatter([act_pair]*len(subset), subset['value'], alpha=0.5)\n",
    "    plt.ylabel('Tiempo entre actividades (segundos)')\n",
    "    plt.xlabel('Transición')\n",
    "    plt.title('Performance Spectrum: Tiempos entre actividades')\n",
    "    plt.xticks(rotation=45, ha='right')\n",
    "    plt.tight_layout()\n",
    "    plt.show()\n",
    "else:\n",
    "    print(\"No se pudo calcular el performance spectrum para este log.\")"
   ]
  }
 ],
 "metadata": {
  "kernelspec": {
   "display_name": "Python 3",
   "language": "python",
   "name": "python3"
  },
  "language_info": {
   "codemirror_mode": {
    "name": "ipython",
    "version": 3
   },
   "file_extension": ".py",
   "mimetype": "text/x-python",
   "name": "python",
   "nbconvert_exporter": "python",
   "pygments_lexer": "ipython3",
   "version": "3.9.6"
  }
 },
 "nbformat": 4,
 "nbformat_minor": 5
}
