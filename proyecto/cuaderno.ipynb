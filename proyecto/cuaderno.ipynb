{
 "cells": [
  {
   "cell_type": "markdown",
   "id": "7945cdf1",
   "metadata": {},
   "source": [
    "# Primer ejemplo de minería de procesos\n",
    "\n",
    "En este cuaderno, vamos a:\n",
    "- Cargar con pandas un archivo de eventos\n",
    "- Preparar el archivo para su procesamiento por pm4py\n",
    "- Cargar el archivo en pm4py\n",
    "- Vamos a hacer discovering de procesos\n",
    "- Vamos a identificar los potenciales cuellos de botella o áreas de mejora.\n",
    "\n",
    "A por ello!"
   ]
  },
  {
   "cell_type": "code",
   "execution_count": 134,
   "id": "682c2485",
   "metadata": {},
   "outputs": [],
   "source": [
    "# Importaciones que necesitamos:\n",
    "import pandas as pd\n",
    "import numpy as np   # Librería de operaciones matemáticas avanzadas\n",
    "\n",
    "from pm4py.objects.conversion.log import converter\n",
    "\n",
    "from pm4py.algo.discovery.inductive import algorithm as inductive_miner\n",
    "\n",
    "from pm4py.objects.conversion.process_tree.variants import to_bpmn as conversor_a_bpmn\n",
    "from pm4py.objects.conversion.process_tree import converter as conversor_a_petri\n",
    "\n",
    "from pm4py.visualization.process_tree import visualizer as visualizador_de_process_trees\n",
    "from pm4py.visualization.petri_net import visualizer as visualizador_redes_de_petri\n",
    "from pm4py.visualization.bpmn import visualizer as visualizador_de_bpmn\n",
    "\n",
    "from pm4py.objects.bpmn.exporter import exporter as exportador_a_bpmn\n",
    "\n",
    "from pm4py.statistics.attributes.log import get as get_attribute_values\n",
    "from pm4py.statistics.start_activities.log import get as sa_get\n",
    "from pm4py.statistics.end_activities.log import get as ea_get\n",
    "from pm4py.statistics.traces.generic.log import case_statistics\n"
   ]
  },
  {
   "cell_type": "markdown",
   "id": "1ed0cb9a",
   "metadata": {},
   "source": [
    "Lo primero que haremos será cargar con pandas el archivo de eventos."
   ]
  },
  {
   "cell_type": "code",
   "execution_count": 100,
   "id": "656606df",
   "metadata": {},
   "outputs": [
    {
     "data": {
      "text/html": [
       "<div>\n",
       "<style scoped>\n",
       "    .dataframe tbody tr th:only-of-type {\n",
       "        vertical-align: middle;\n",
       "    }\n",
       "\n",
       "    .dataframe tbody tr th {\n",
       "        vertical-align: top;\n",
       "    }\n",
       "\n",
       "    .dataframe thead th {\n",
       "        text-align: right;\n",
       "    }\n",
       "</style>\n",
       "<table border=\"1\" class=\"dataframe\">\n",
       "  <thead>\n",
       "    <tr style=\"text-align: right;\">\n",
       "      <th></th>\n",
       "      <th>case_id</th>\n",
       "      <th>activity</th>\n",
       "      <th>timestamp</th>\n",
       "      <th>resource</th>\n",
       "    </tr>\n",
       "  </thead>\n",
       "  <tbody>\n",
       "    <tr>\n",
       "      <th>0</th>\n",
       "      <td>1001</td>\n",
       "      <td>Pedido recibido</td>\n",
       "      <td>2025-06-01 09:00:00</td>\n",
       "      <td>Ana</td>\n",
       "    </tr>\n",
       "    <tr>\n",
       "      <th>1</th>\n",
       "      <td>1001</td>\n",
       "      <td>Validación</td>\n",
       "      <td>2025-06-01 10:00:00</td>\n",
       "      <td>Pedro</td>\n",
       "    </tr>\n",
       "    <tr>\n",
       "      <th>2</th>\n",
       "      <td>1001</td>\n",
       "      <td>Aprobación</td>\n",
       "      <td>2025-06-01 11:30:00</td>\n",
       "      <td>Juan</td>\n",
       "    </tr>\n",
       "    <tr>\n",
       "      <th>3</th>\n",
       "      <td>1002</td>\n",
       "      <td>Pedido recibido</td>\n",
       "      <td>2025-06-01 09:15:00</td>\n",
       "      <td>Ana</td>\n",
       "    </tr>\n",
       "    <tr>\n",
       "      <th>4</th>\n",
       "      <td>1002</td>\n",
       "      <td>Rechazo</td>\n",
       "      <td>2025-06-01 09:45:00</td>\n",
       "      <td>Marta</td>\n",
       "    </tr>\n",
       "  </tbody>\n",
       "</table>\n",
       "</div>"
      ],
      "text/plain": [
       "   case_id         activity           timestamp resource\n",
       "0     1001  Pedido recibido 2025-06-01 09:00:00      Ana\n",
       "1     1001       Validación 2025-06-01 10:00:00    Pedro\n",
       "2     1001       Aprobación 2025-06-01 11:30:00     Juan\n",
       "3     1002  Pedido recibido 2025-06-01 09:15:00      Ana\n",
       "4     1002          Rechazo 2025-06-01 09:45:00    Marta"
      ]
     },
     "execution_count": 100,
     "metadata": {},
     "output_type": "execute_result"
    }
   ],
   "source": [
    "datos = pd.read_csv('datos.csv', parse_dates=['timestamp'])\n",
    "datos"
   ]
  },
  {
   "cell_type": "code",
   "execution_count": 101,
   "id": "f9fc5930",
   "metadata": {},
   "outputs": [
    {
     "name": "stdout",
     "output_type": "stream",
     "text": [
      "<class 'pandas.core.frame.DataFrame'>\n",
      "RangeIndex: 5 entries, 0 to 4\n",
      "Data columns (total 4 columns):\n",
      " #   Column     Non-Null Count  Dtype         \n",
      "---  ------     --------------  -----         \n",
      " 0   case_id    5 non-null      int64         \n",
      " 1   activity   5 non-null      object        \n",
      " 2   timestamp  5 non-null      datetime64[ns]\n",
      " 3   resource   5 non-null      object        \n",
      "dtypes: datetime64[ns](1), int64(1), object(2)\n",
      "memory usage: 288.0+ bytes\n"
     ]
    }
   ],
   "source": [
    "datos.info()"
   ]
  },
  {
   "cell_type": "code",
   "execution_count": 102,
   "id": "ae676827",
   "metadata": {},
   "outputs": [
    {
     "data": {
      "text/html": [
       "<div>\n",
       "<style scoped>\n",
       "    .dataframe tbody tr th:only-of-type {\n",
       "        vertical-align: middle;\n",
       "    }\n",
       "\n",
       "    .dataframe tbody tr th {\n",
       "        vertical-align: top;\n",
       "    }\n",
       "\n",
       "    .dataframe thead th {\n",
       "        text-align: right;\n",
       "    }\n",
       "</style>\n",
       "<table border=\"1\" class=\"dataframe\">\n",
       "  <thead>\n",
       "    <tr style=\"text-align: right;\">\n",
       "      <th></th>\n",
       "      <th>case_id</th>\n",
       "      <th>timestamp</th>\n",
       "    </tr>\n",
       "  </thead>\n",
       "  <tbody>\n",
       "    <tr>\n",
       "      <th>count</th>\n",
       "      <td>5.000000</td>\n",
       "      <td>5</td>\n",
       "    </tr>\n",
       "    <tr>\n",
       "      <th>mean</th>\n",
       "      <td>1001.400000</td>\n",
       "      <td>2025-06-01 09:54:00</td>\n",
       "    </tr>\n",
       "    <tr>\n",
       "      <th>min</th>\n",
       "      <td>1001.000000</td>\n",
       "      <td>2025-06-01 09:00:00</td>\n",
       "    </tr>\n",
       "    <tr>\n",
       "      <th>25%</th>\n",
       "      <td>1001.000000</td>\n",
       "      <td>2025-06-01 09:15:00</td>\n",
       "    </tr>\n",
       "    <tr>\n",
       "      <th>50%</th>\n",
       "      <td>1001.000000</td>\n",
       "      <td>2025-06-01 09:45:00</td>\n",
       "    </tr>\n",
       "    <tr>\n",
       "      <th>75%</th>\n",
       "      <td>1002.000000</td>\n",
       "      <td>2025-06-01 10:00:00</td>\n",
       "    </tr>\n",
       "    <tr>\n",
       "      <th>max</th>\n",
       "      <td>1002.000000</td>\n",
       "      <td>2025-06-01 11:30:00</td>\n",
       "    </tr>\n",
       "    <tr>\n",
       "      <th>std</th>\n",
       "      <td>0.547723</td>\n",
       "      <td>NaN</td>\n",
       "    </tr>\n",
       "  </tbody>\n",
       "</table>\n",
       "</div>"
      ],
      "text/plain": [
       "           case_id            timestamp\n",
       "count     5.000000                    5\n",
       "mean   1001.400000  2025-06-01 09:54:00\n",
       "min    1001.000000  2025-06-01 09:00:00\n",
       "25%    1001.000000  2025-06-01 09:15:00\n",
       "50%    1001.000000  2025-06-01 09:45:00\n",
       "75%    1002.000000  2025-06-01 10:00:00\n",
       "max    1002.000000  2025-06-01 11:30:00\n",
       "std       0.547723                  NaN"
      ]
     },
     "execution_count": 102,
     "metadata": {},
     "output_type": "execute_result"
    }
   ],
   "source": [
    "datos.describe()"
   ]
  },
  {
   "cell_type": "markdown",
   "id": "59b6e1aa",
   "metadata": {},
   "source": [
    "Cambiamos los nombres de las columnas a los que necesita pm4py. Además aprovechamos para ordenar las columnas de forma que queden como las necesita pm4py."
   ]
  },
  {
   "cell_type": "code",
   "execution_count": 103,
   "id": "ce5f5f87",
   "metadata": {},
   "outputs": [
    {
     "data": {
      "text/html": [
       "<div>\n",
       "<style scoped>\n",
       "    .dataframe tbody tr th:only-of-type {\n",
       "        vertical-align: middle;\n",
       "    }\n",
       "\n",
       "    .dataframe tbody tr th {\n",
       "        vertical-align: top;\n",
       "    }\n",
       "\n",
       "    .dataframe thead th {\n",
       "        text-align: right;\n",
       "    }\n",
       "</style>\n",
       "<table border=\"1\" class=\"dataframe\">\n",
       "  <thead>\n",
       "    <tr style=\"text-align: right;\">\n",
       "      <th></th>\n",
       "      <th>case:concept:name</th>\n",
       "      <th>concept:name</th>\n",
       "      <th>time:timestamp</th>\n",
       "      <th>resource</th>\n",
       "    </tr>\n",
       "  </thead>\n",
       "  <tbody>\n",
       "    <tr>\n",
       "      <th>0</th>\n",
       "      <td>1001</td>\n",
       "      <td>Pedido recibido</td>\n",
       "      <td>2025-06-01 09:00:00</td>\n",
       "      <td>Ana</td>\n",
       "    </tr>\n",
       "    <tr>\n",
       "      <th>1</th>\n",
       "      <td>1001</td>\n",
       "      <td>Validación</td>\n",
       "      <td>2025-06-01 10:00:00</td>\n",
       "      <td>Pedro</td>\n",
       "    </tr>\n",
       "    <tr>\n",
       "      <th>2</th>\n",
       "      <td>1001</td>\n",
       "      <td>Aprobación</td>\n",
       "      <td>2025-06-01 11:30:00</td>\n",
       "      <td>Juan</td>\n",
       "    </tr>\n",
       "    <tr>\n",
       "      <th>3</th>\n",
       "      <td>1002</td>\n",
       "      <td>Pedido recibido</td>\n",
       "      <td>2025-06-01 09:15:00</td>\n",
       "      <td>Ana</td>\n",
       "    </tr>\n",
       "    <tr>\n",
       "      <th>4</th>\n",
       "      <td>1002</td>\n",
       "      <td>Rechazo</td>\n",
       "      <td>2025-06-01 09:45:00</td>\n",
       "      <td>Marta</td>\n",
       "    </tr>\n",
       "  </tbody>\n",
       "</table>\n",
       "</div>"
      ],
      "text/plain": [
       "   case:concept:name     concept:name      time:timestamp resource\n",
       "0               1001  Pedido recibido 2025-06-01 09:00:00      Ana\n",
       "1               1001       Validación 2025-06-01 10:00:00    Pedro\n",
       "2               1001       Aprobación 2025-06-01 11:30:00     Juan\n",
       "3               1002  Pedido recibido 2025-06-01 09:15:00      Ana\n",
       "4               1002          Rechazo 2025-06-01 09:45:00    Marta"
      ]
     },
     "execution_count": 103,
     "metadata": {},
     "output_type": "execute_result"
    }
   ],
   "source": [
    "# Renombra las columnas para que pm4py las entienda\n",
    "datos_preparados = datos.rename(columns={\n",
    "    'case_id': 'case:concept:name',\n",
    "    'activity': 'concept:name',\n",
    "    'timestamp': 'time:timestamp'\n",
    "})  \n",
    "# Ordenar por caso y por fecha\n",
    "datos_renombrados = datos_preparados.sort_values(by=['case:concept:name', 'time:timestamp'])  # Ordena los datos por case_id y timestamp\n",
    "\n",
    "datos_preparados "
   ]
  },
  {
   "cell_type": "markdown",
   "id": "7e579f38",
   "metadata": {},
   "source": [
    "Le pido a la librería que cargue el DataFrame y lo transforme en un objeto de tipo Event Log.\n",
    "\n",
    "Un event log es un objeto propio de la librería pm4py que contiene los datos del DataFrame en un formato adecuado para el análisis de procesos."
   ]
  },
  {
   "cell_type": "code",
   "execution_count": 104,
   "id": "5b559c42",
   "metadata": {},
   "outputs": [
    {
     "data": {
      "text/plain": [
       "[{'attributes': {'concept:name': 1001}, 'events': [{'concept:name': 'Pedido recibido', 'time:timestamp': Timestamp('2025-06-01 09:00:00'), 'resource': 'Ana'}, '..', {'concept:name': 'Aprobación', 'time:timestamp': Timestamp('2025-06-01 11:30:00'), 'resource': 'Juan'}]}, '....', {'attributes': {'concept:name': 1002}, 'events': [{'concept:name': 'Pedido recibido', 'time:timestamp': Timestamp('2025-06-01 09:15:00'), 'resource': 'Ana'}, '..', {'concept:name': 'Rechazo', 'time:timestamp': Timestamp('2025-06-01 09:45:00'), 'resource': 'Marta'}]}]"
      ]
     },
     "execution_count": 104,
     "metadata": {},
     "output_type": "execute_result"
    }
   ],
   "source": [
    "log = converter.apply(datos_preparados, variant = converter.Variants.TO_EVENT_LOG)  # Convierte los datos a un log de eventos de pm4py\n",
    "log"
   ]
  },
  {
   "cell_type": "markdown",
   "id": "de567650",
   "metadata": {},
   "source": [
    "Lo que vemos ahí es un formato raro (de listas y diccionarios) en el que pm4py prepara los datos para posteriormente poder analizarlos.B\n",
    "\n",
    "Básicamente, los agrupa por CASO.\n",
    "\n",
    "Ese formato interno nos da igual verlo por pantalla... solo es algo que hay que hacer."
   ]
  },
  {
   "cell_type": "markdown",
   "id": "e8e1485f",
   "metadata": {},
   "source": [
    "Una vez hecho esto, lo que vamos a hacer es generar un modelo, a partir de los datos que hemos cargado, para ver cómo es el proceso.\n",
    "\n",
    "La forma más básica de modelo que tiene pm4py es lo que se llama un PROCESS TREE.\n",
    "\n",
    "Eso es algo muy formal... y que cuando lo miro, flipo!... pero es la descripción matemática formal del modelo de proceso, al que se ajustan TODAS las entradas del log de eventos."
   ]
  },
  {
   "cell_type": "code",
   "execution_count": 105,
   "id": "1e19a69f",
   "metadata": {},
   "outputs": [
    {
     "data": {
      "text/plain": [
       "->( 'Pedido recibido', X( ->( 'Validación', 'Aprobación' ), 'Rechazo' ) )"
      ]
     },
     "execution_count": 105,
     "metadata": {},
     "output_type": "execute_result"
    }
   ],
   "source": [
    "# Estamos usando un algoritmo de mineria de procesos, llamado Inductive Miner, para descubrir el modelo de proceso a partir del log de eventos.\n",
    "# Hay muchos más algoritmos. Ya os pasaré una lista.\n",
    "process_tree = inductive_miner.apply(log)  # Aplica el algoritmo de descubrimiento inductivo a los datos\n",
    "\n",
    "process_tree\n"
   ]
  },
  {
   "cell_type": "markdown",
   "id": "45e2e5d1",
   "metadata": {},
   "source": [
    "Ahí podemos llegar a ver los siguientes operadores:\n",
    "\n",
    "-> SECUENCIA: indica que una actividad(es) sigue a otra.\n",
    "\n",
    "X  ALTERNATIVA: indica que una actividad(es) u otra puede ocurrir.\n",
    "\n",
    "^  AND: Tareas que se ejecutan en paralelo.\n",
    "\n",
    "⟳ ITERACIÓN: indica que una actividad(es) puede repetirse.\n",
    "\n",
    "\n",
    "    SECUENCIA\n",
    "    - Pedido recibido\n",
    "    - ALTERNATIVA (XOR)\n",
    "        - SECUENCIA\n",
    "            - Validación\n",
    "            - Aprobación\n",
    "        - Rechazo\n",
    "\n",
    "Esta representación es muy buena para el posterior análsis de los datos. Cuando digo muy buena, me refiero a que COMPUTACIONALMENTE ES MUY FÁCIL RECORRER ESE ÁRBOL e ir PROBANDO los datos que tenemos en el fichero de los... a ver si encajan o no con  ese árbol. ESO ES ALGO QUE HACE INTERNAMENTE LA LIBRERÍA PM4PY.\n",
    "\n",
    "Lo que hacemos posteriormente es transformar ese process_tree en algo que nosotros podamos ver y entender mejor: un diagrama de RED DE PETRI o un diagrama BPMN."
   ]
  },
  {
   "cell_type": "code",
   "execution_count": 115,
   "id": "9fbdbe79",
   "metadata": {},
   "outputs": [
    {
     "data": {
      "image/png": "[encoded data removed]",
      "text/plain": [
       "<IPython.core.display.Image object>"
      ]
     },
     "metadata": {},
     "output_type": "display_data"
    }
   ],
   "source": [
    "grafico_process_tree = visualizador_de_process_trees.apply(process_tree, parameters={\"format\": \"png\"})\n",
    "visualizador_de_process_trees.save(grafico_process_tree,\"process_tree.png\")\n",
    "visualizador_de_process_trees.view(grafico_process_tree)"
   ]
  },
  {
   "cell_type": "markdown",
   "id": "a1eb8a58",
   "metadata": {},
   "source": [
    "Ese árbol de procesos está guay para PM4PY.. no para mi. Vamos a generar una red de petri, que podemos representar en algo que lleva un flujo!"
   ]
  },
  {
   "cell_type": "code",
   "execution_count": 107,
   "id": "97ad61d6",
   "metadata": {},
   "outputs": [
    {
     "data": {
      "text/plain": [
       "places: [ p_3, p_4, sink, source ]\n",
       "transitions: [ (24905d25-255e-4dca-b9a2-3f4e53f6d153, 'Aprobación'), (4894b6ca-5e69-4a02-bee3-55b66784936f, 'Rechazo'), (a19136ec-532f-4a61-a6b6-db8d4ff345bf, 'Pedido recibido'), (c22b4042-a987-40c5-a89a-01030b8e16ba, 'Validación') ]\n",
       "arcs: [ (24905d25-255e-4dca-b9a2-3f4e53f6d153, 'Aprobación')->sink, (4894b6ca-5e69-4a02-bee3-55b66784936f, 'Rechazo')->sink, (a19136ec-532f-4a61-a6b6-db8d4ff345bf, 'Pedido recibido')->p_3, (c22b4042-a987-40c5-a89a-01030b8e16ba, 'Validación')->p_4, p_3->(4894b6ca-5e69-4a02-bee3-55b66784936f, 'Rechazo'), p_3->(c22b4042-a987-40c5-a89a-01030b8e16ba, 'Validación'), p_4->(24905d25-255e-4dca-b9a2-3f4e53f6d153, 'Aprobación'), source->(a19136ec-532f-4a61-a6b6-db8d4ff345bf, 'Pedido recibido') ]"
      ]
     },
     "execution_count": 107,
     "metadata": {},
     "output_type": "execute_result"
    }
   ],
   "source": [
    "red, origenes, finales = conversor_a_petri.apply(process_tree)  # Convierte el árbol de procesos a una red de Petri\n",
    "red\n"
   ]
  },
  {
   "cell_type": "code",
   "execution_count": 108,
   "id": "4118036d",
   "metadata": {},
   "outputs": [
    {
     "data": {
      "text/plain": [
       "['source:1']"
      ]
     },
     "execution_count": 108,
     "metadata": {},
     "output_type": "execute_result"
    }
   ],
   "source": [
    "origenes"
   ]
  },
  {
   "cell_type": "code",
   "execution_count": 109,
   "id": "d42a2291",
   "metadata": {},
   "outputs": [
    {
     "data": {
      "text/plain": [
       "['sink:1']"
      ]
     },
     "execution_count": 109,
     "metadata": {},
     "output_type": "execute_result"
    }
   ],
   "source": [
    "finales"
   ]
  },
  {
   "cell_type": "markdown",
   "id": "2d72837d",
   "metadata": {},
   "source": [
    "Ahora tenemos una red de petri. Lo que vemos en pantalla es la representación INTERNA que se hace de esa red de petri... pero para verla, nos interesa más que se nos dibuje como un grafo:"
   ]
  },
  {
   "cell_type": "code",
   "execution_count": 110,
   "id": "0e1dc862",
   "metadata": {},
   "outputs": [
    {
     "data": {
      "image/png": "[encoded data removed]",
      "text/plain": [
       "<IPython.core.display.Image object>"
      ]
     },
     "metadata": {},
     "output_type": "display_data"
    }
   ],
   "source": [
    "\n",
    "grafico_red_petri = visualizador_redes_de_petri.apply(red, origenes, finales, parameters={\"format\": \"png\"})  # Visualiza la red de Petri resultante del descubrimiento\n",
    "\n",
    "visualizador_redes_de_petri.save(grafico_red_petri, \"proceso.png\")  # Guarda la visualización en un fichero PNG\n",
    "visualizador_redes_de_petri.view(grafico_red_petri)"
   ]
  },
  {
   "cell_type": "markdown",
   "id": "0ec1c9b7",
   "metadata": {},
   "source": [
    "Igual que hemos generado un modelo PETRI del proceso, podemos generar un modelo BPMN del proceso.\n",
    "Vamos a generar un modelo BPMN del proceso. \n",
    "Ese modelo posteriormente lo podemos:\n",
    "- Representar gráficamente en algo más fácil de entender para los humanos.\n",
    "- Exportarlo a un fichero XML que se puede importar en herramientas de modelado de procesos industriales."
   ]
  },
  {
   "cell_type": "code",
   "execution_count": 111,
   "id": "4e4d0ca2",
   "metadata": {},
   "outputs": [
    {
     "data": {
      "text/plain": [
       "<pm4py.objects.bpmn.obj.BPMN at 0x2e3616e50>"
      ]
     },
     "execution_count": 111,
     "metadata": {},
     "output_type": "execute_result"
    }
   ],
   "source": [
    "modelo_bpmn = conversor_a_bpmn.apply(process_tree)  # Convierte el árbol de procesos a una red de Petri\n",
    "modelo_bpmn"
   ]
  },
  {
   "cell_type": "markdown",
   "id": "00912688",
   "metadata": {},
   "source": [
    "Ahora que ya tengo el modelo podemos guardarlo como xml:"
   ]
  },
  {
   "cell_type": "code",
   "execution_count": 112,
   "id": "c34f6ce2",
   "metadata": {},
   "outputs": [],
   "source": [
    "exportador_a_bpmn.apply(modelo_bpmn, \"proceso.bpmn\")  # Exporta el modelo BPMN a un fichero XML"
   ]
  },
  {
   "cell_type": "code",
   "execution_count": 113,
   "id": "2cd6df5e",
   "metadata": {},
   "outputs": [
    {
     "data": {
      "image/png": "[encoded data removed]",
      "text/plain": [
       "<IPython.core.display.Image object>"
      ]
     },
     "metadata": {},
     "output_type": "display_data"
    }
   ],
   "source": [
    "\n",
    "grafico_bpmn = visualizador_de_bpmn.apply(modelo_bpmn, parameters={\"format\": \"png\"})  # Visualiza la red de Petri resultante del descubrimiento\n",
    "\n",
    "visualizador_de_bpmn.save(grafico_bpmn, \"proceso-bpmn.png\")  # Guarda la visualización en un fichero PNG\n",
    "visualizador_de_bpmn.view(grafico_bpmn) # Lo muestra aqui en pantalla"
   ]
  },
  {
   "cell_type": "markdown",
   "id": "a9e014fe",
   "metadata": {},
   "source": [
    "La realidad es que antes de generar estos modelos, deberíamos haber hecho algún análisis descriptivo básico de los datos que tenemos en el log de evento. Eso nos permite ir entendiendo un poco mejor los datos... y empezar a detectar algunas anomalías que pudiéramos tener."
   ]
  },
  {
   "cell_type": "code",
   "execution_count": 119,
   "id": "fa4b27b9",
   "metadata": {},
   "outputs": [
    {
     "name": "stdout",
     "output_type": "stream",
     "text": [
      "=== ESTADÍSTICAS BÁSICAS DEL LOG ===\n",
      "Número total de casos: 2\n",
      "Número total de eventos: 5\n"
     ]
    }
   ],
   "source": [
    "# Estadísticas básicas del log\n",
    "print(\"=== ESTADÍSTICAS BÁSICAS DEL LOG ===\")\n",
    "print(f\"Número total de casos: {len(log)}\")\n",
    "print(f\"Número total de eventos: {sum(len(trace) for trace in log)}\")\n"
   ]
  },
  {
   "cell_type": "code",
   "execution_count": 120,
   "id": "2f54b3dc",
   "metadata": {},
   "outputs": [
    {
     "name": "stdout",
     "output_type": "stream",
     "text": [
      "=== ANÁLISIS DEL NÚMERO DE ACTIVIDADES POR CASO ===\n",
      "Longitud media de traza: 2.50\n",
      "Longitud mínima de traza: 2\n",
      "Longitud máxima de traza: 3\n",
      "Desviación estándar longitud: 0.50\n"
     ]
    }
   ],
   "source": [
    "\n",
    "# Análisis de los casos... y su número de actividades asociadas\n",
    "print(\"=== ANÁLISIS DEL NÚMERO DE ACTIVIDADES POR CASO ===\")\n",
    "longitudes_trazas = [len(trace) for trace in log] # Es una lista con las longitudes de las trazas.\n",
    "# En nuestro caso tenemos [3, 2]\n",
    "# [PedidoRecibido-> Validación -> Aprobación , PedidoRecibido -> Rechazo]\n",
    "print(f\"Longitud media de traza: {np.mean(longitudes_trazas):.2f}\")\n",
    "print(f\"Longitud mínima de traza: {min(longitudes_trazas)}\")\n",
    "print(f\"Longitud máxima de traza: {max(longitudes_trazas)}\")\n",
    "print(f\"Desviación estándar longitud: {np.std(longitudes_trazas):.2f}\")"
   ]
  },
  {
   "cell_type": "code",
   "execution_count": 125,
   "id": "3746526c",
   "metadata": {},
   "outputs": [
    {
     "name": "stdout",
     "output_type": "stream",
     "text": [
      "\n",
      "=== ESTADÍSTICAS DE ACTIVIDADES ===\n",
      "Número de actividades únicas: 4\n",
      "\n",
      "Frecuencia de actividades:\n",
      "  - Pedido recibido: 2 eventos\n",
      "  - Validación: 1 eventos\n",
      "  - Aprobación: 1 eventos\n",
      "  - Rechazo: 1 eventos\n"
     ]
    }
   ],
   "source": [
    "# Estadísticas de actividades\n",
    "print(\"\\n=== ESTADÍSTICAS DE ACTIVIDADES ===\")\n",
    "actividades = get_attribute_values.get_attribute_values(log, \"concept:name\") # Tabla de frecuencias de actividades\n",
    "print(f\"Número de actividades únicas: {len(actividades)}\")\n",
    "print(\"\\nFrecuencia de actividades:\")\n",
    "for actividad, frecuencia in sorted(actividades.items(), key=lambda x: x[1], reverse=True):\n",
    "    print(f\"  - {actividad}: {frecuencia} eventos\")\n"
   ]
  },
  {
   "cell_type": "code",
   "execution_count": null,
   "id": "60412e3e",
   "metadata": {},
   "outputs": [
    {
     "name": "stdout",
     "output_type": "stream",
     "text": [
      "\n",
      "=== VARIANTES DEL PROCESO ===\n",
      "Número de variantes únicas: 2\n",
      "Variante más común: ('Pedido recibido', 'Validación', 'Aprobación') (aparece 1 veces)\n",
      "\n",
      "Top 5 variantes más frecuentes:\n",
      "  1. Pedido recibido → Validación → Aprobación (1 casos)\n",
      "  2. Pedido recibido → Rechazo (1 casos)\n"
     ]
    },
    {
     "data": {
      "text/plain": [
       "{('Pedido recibido', 'Validación', 'Aprobación'): 1,\n",
       " ('Pedido recibido', 'Rechazo'): 1}"
      ]
     },
     "execution_count": 129,
     "metadata": {},
     "output_type": "execute_result"
    }
   ],
   "source": [
    "# Estadísticas de variantes del proceso\n",
    "print(\"\\n=== VARIANTES DEL PROCESO ===\")\n",
    "variantes = {}\n",
    "for trace in log:\n",
    "    variante = tuple([event[\"concept:name\"] for event in trace]) # Las secuencias de actividades que se van dando en los casos (VARIANTES)\n",
    "    if variante in variantes:\n",
    "        variantes[variante] += 1\n",
    "    else:\n",
    "        variantes[variante] = 1\n",
    "\n",
    "print(f\"Número de variantes únicas: {len(variantes)}\")\n",
    "print(f\"Variante más común: {max(variantes, key=variantes.get)} (aparece {max(variantes.values())} veces)\")\n",
    "\n",
    "print(\"\\nTop 5 variantes más frecuentes:\")\n",
    "for i, (variante, frecuencia) in enumerate(sorted(variantes.items(), key=lambda x: x[1], reverse=True)[:5]):\n",
    "    print(f\"  {i+1}. {' → '.join(variante)} ({frecuencia} casos)\")\n"
   ]
  },
  {
   "cell_type": "code",
   "execution_count": null,
   "id": "dcd076a3",
   "metadata": {},
   "outputs": [
    {
     "name": "stdout",
     "output_type": "stream",
     "text": [
      "Variant: ('Pedido recibido', 'Validación', 'Aprobación'), Count: 1\n",
      "Variant: ('Pedido recibido', 'Rechazo'), Count: 1\n"
     ]
    }
   ],
   "source": [
    "\n",
    "variants = case_statistics.get_variant_statistics(log)                  # Obtener estadísticas de variantes\n",
    "\n",
    "variants = sorted(variants, key=lambda x: x['count'], reverse=True)     # Ordenar por frecuencia\n",
    "for variant in variants[:5]:                                            # Mostrar las 5 variantes más frecuentes\n",
    "    print(f\"Variant: {variant['variant']}, Count: {variant['count']}\")\n"
   ]
  },
  {
   "cell_type": "code",
   "execution_count": 137,
   "id": "58e7d546",
   "metadata": {},
   "outputs": [
    {
     "name": "stdout",
     "output_type": "stream",
     "text": [
      "\n",
      "=== TASA DE LLEGADA DE CASOS ===\n",
      "Tasa de llegada de casos: 900.00 casos por unidad de tiempo\n"
     ]
    }
   ],
   "source": [
    "from pm4py.statistics.traces.generic.log import case_arrival\n",
    "\n",
    "arrival_times = case_arrival.get_case_arrival_avg(log)  # Obtener tasa de llegada de casos\n",
    "print(\"\\n=== TASA DE LLEGADA DE CASOS ===\")\n",
    "print(f\"Tasa de llegada de casos: {arrival_times:.2f} casos por unidad de tiempo\")"
   ]
  },
  {
   "cell_type": "code",
   "execution_count": 135,
   "id": "f24e038d",
   "metadata": {},
   "outputs": [
    {
     "name": "stdout",
     "output_type": "stream",
     "text": [
      "\n",
      "=== ACTIVIDADES INICIALES Y FINALES ===\n",
      "Actividades iniciales:\n",
      "  - Pedido recibido: 2 casos (100.0%)\n",
      "\n",
      "Actividades finales:\n",
      "  - Aprobación: 1 casos (50.0%)\n",
      "  - Rechazo: 1 casos (50.0%)\n",
      "\n",
      "Número de actividades iniciales únicas: 1\n",
      "Número de actividades finales únicas: 2\n",
      "\n",
      "No hay actividades que sean tanto iniciales como finales\n"
     ]
    }
   ],
   "source": [
    "# Análisis de actividades iniciales y finales (VERSIÓN OPTIMIZADA)\n",
    "print(\"\\n=== ACTIVIDADES INICIALES Y FINALES ===\")\n",
    "\n",
    "# Obtener actividades iniciales usando funciones nativas\n",
    "actividades_iniciales = sa_get.get_start_activities(log)\n",
    "print(\"Actividades iniciales:\")\n",
    "for actividad, frecuencia in sorted(actividades_iniciales.items(), key=lambda x: x[1], reverse=True):\n",
    "    porcentaje = (frecuencia / len(log)) * 100\n",
    "    print(f\"  - {actividad}: {frecuencia} casos ({porcentaje:.1f}%)\")\n",
    "\n",
    "# Obtener actividades finales usando funciones nativas\n",
    "actividades_finales = ea_get.get_end_activities(log)\n",
    "print(\"\\nActividades finales:\")\n",
    "for actividad, frecuencia in sorted(actividades_finales.items(), key=lambda x: x[1], reverse=True):\n",
    "    porcentaje = (frecuencia / len(log)) * 100\n",
    "    print(f\"  - {actividad}: {frecuencia} casos ({porcentaje:.1f}%)\")\n",
    "\n",
    "# Estadísticas adicionales\n",
    "print(f\"\\nNúmero de actividades iniciales únicas: {len(actividades_iniciales)}\")\n",
    "print(f\"Número de actividades finales únicas: {len(actividades_finales)}\")\n",
    "\n",
    "# Actividades que son tanto iniciales como finales\n",
    "actividades_ambas = set(actividades_iniciales.keys()) & set(actividades_finales.keys())\n",
    "if actividades_ambas:\n",
    "    print(f\"\\nActividades que pueden ser tanto iniciales como finales: {list(actividades_ambas)}\")\n",
    "else:\n",
    "    print(\"\\nNo hay actividades que sean tanto iniciales como finales\")"
   ]
  },
  {
   "cell_type": "code",
   "execution_count": null,
   "id": "ea2b8370",
   "metadata": {},
   "outputs": [
    {
     "name": "stdout",
     "output_type": "stream",
     "text": [
      "\n",
      "=== ANÁLISIS TEMPORAL ===\n",
      "Duración mínima: 0.50 horas\n",
      "Duración máxima: 2.50 horas\n",
      "Duración media del proceso: 1.50 horas\n",
      "Desviación estándar de duración: 1.00 horas\n",
      "Mediana de duración: 1.50 horas\n",
      "Rango semi-intercuartílico de duración: 0.50 horas\n",
      "95% de los casos tienen una duración menor a: 2.40 horas\n"
     ]
    }
   ],
   "source": [
    "# Análisis temporal\n",
    "print(\"\\n=== ANÁLISIS TEMPORAL A NIVEL DE PROCESO ===\")\n",
    "\n",
    "# Duración de casos (si hay timestamps)\n",
    "if len(log) > 0 and len(log[0]) > 0 and \"time:timestamp\" in log[0][0]:\n",
    "    duraciones = []\n",
    "    for trace in log:\n",
    "        if len(trace) > 1:\n",
    "            inicio = trace[0][\"time:timestamp\"]\n",
    "            fin = trace[-1][\"time:timestamp\"]\n",
    "            duracion = (fin - inicio).total_seconds() / 3600  # en horas\n",
    "            duraciones.append(duracion)\n",
    "    \n",
    "    if duraciones:\n",
    "        print(f\"Duración mínima: {min(duraciones):.2f} horas\")\n",
    "        print(f\"Duración máxima: {max(duraciones):.2f} horas\")\n",
    "        print(f\"Duración media del proceso: {np.mean(duraciones):.2f} horas\")\n",
    "        print(f\"Desviación estándar de duración: {np.std(duraciones):.2f} horas\")\n",
    "        print(f\"Mediana de duración: {np.median(duraciones):.2f} horas\")\n",
    "        percentil25 = np.percentile(duraciones, 25)\n",
    "        percentil75 = np.percentile(duraciones, 75)\n",
    "        rango_semi_intercuartilico = (percentil75 - percentil25) / 2\n",
    "        print(f\"Rango semi-intercuartílico de duración: {rango_semi_intercuartilico:.2f} horas\")\n",
    "\n",
    "        percentil95 = np.percentile(duraciones, 95)\n",
    "        print(f\"95% de los casos tienen una duración menor a: {percentil95:.2f} horas\")\n",
    "\n",
    "else:\n",
    "    print(\"No hay información temporal disponible en el log\")"
   ]
  }
 ],
 "metadata": {
  "kernelspec": {
   "display_name": ".venv",
   "language": "python",
   "name": "python3"
  },
  "language_info": {
   "codemirror_mode": {
    "name": "ipython",
    "version": 3
   },
   "file_extension": ".py",
   "mimetype": "text/x-python",
   "name": "python",
   "nbconvert_exporter": "python",
   "pygments_lexer": "ipython3",
   "version": "3.9.6"
  }
 },
 "nbformat": 4,
 "nbformat_minor": 5
}
