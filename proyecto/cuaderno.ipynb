{
 "cells": [
  {
   "cell_type": "markdown",
   "id": "7945cdf1",
   "metadata": {},
   "source": [
    "# Primer ejemplo de minería de procesos\n",
    "\n",
    "En este cuaderno, vamos a:\n",
    "- Cargar con pandas un archivo de eventos\n",
    "- Preparar el archivo para su procesamiento por pm4py\n",
    "- Cargar el archivo en pm4py\n",
    "- Vamos a hacer discovering de procesos\n",
    "- Vamos a identificar los potenciales cuellos de botella o áreas de mejora.\n",
    "\n",
    "A por ello!"
   ]
  },
  {
   "cell_type": "code",
   "execution_count": 36,
   "id": "682c2485",
   "metadata": {},
   "outputs": [],
   "source": [
    "# Importaciones que necesitamos:\n",
    "import pandas as pd\n",
    "from pm4py.objects.conversion.log import converter\n",
    "from pm4py.algo.discovery.inductive import algorithm as inductive_miner\n",
    "from pm4py.visualization.process_tree import visualizer as visualizador_de_process_trees\n"
   ]
  },
  {
   "cell_type": "markdown",
   "id": "1ed0cb9a",
   "metadata": {},
   "source": [
    "Lo primero que haremos será cargar con pandas el archivo de eventos."
   ]
  },
  {
   "cell_type": "code",
   "execution_count": 27,
   "id": "656606df",
   "metadata": {},
   "outputs": [
    {
     "data": {
      "text/html": [
       "<div>\n",
       "<style scoped>\n",
       "    .dataframe tbody tr th:only-of-type {\n",
       "        vertical-align: middle;\n",
       "    }\n",
       "\n",
       "    .dataframe tbody tr th {\n",
       "        vertical-align: top;\n",
       "    }\n",
       "\n",
       "    .dataframe thead th {\n",
       "        text-align: right;\n",
       "    }\n",
       "</style>\n",
       "<table border=\"1\" class=\"dataframe\">\n",
       "  <thead>\n",
       "    <tr style=\"text-align: right;\">\n",
       "      <th></th>\n",
       "      <th>case_id</th>\n",
       "      <th>activity</th>\n",
       "      <th>timestamp</th>\n",
       "      <th>resource</th>\n",
       "    </tr>\n",
       "  </thead>\n",
       "  <tbody>\n",
       "    <tr>\n",
       "      <th>0</th>\n",
       "      <td>1001</td>\n",
       "      <td>Pedido recibido</td>\n",
       "      <td>2025-06-01 09:00:00</td>\n",
       "      <td>Ana</td>\n",
       "    </tr>\n",
       "    <tr>\n",
       "      <th>1</th>\n",
       "      <td>1001</td>\n",
       "      <td>Validación</td>\n",
       "      <td>2025-06-01 10:00:00</td>\n",
       "      <td>Pedro</td>\n",
       "    </tr>\n",
       "    <tr>\n",
       "      <th>2</th>\n",
       "      <td>1001</td>\n",
       "      <td>Aprobación</td>\n",
       "      <td>2025-06-01 11:30:00</td>\n",
       "      <td>Juan</td>\n",
       "    </tr>\n",
       "    <tr>\n",
       "      <th>3</th>\n",
       "      <td>1002</td>\n",
       "      <td>Pedido recibido</td>\n",
       "      <td>2025-06-01 09:15:00</td>\n",
       "      <td>Ana</td>\n",
       "    </tr>\n",
       "    <tr>\n",
       "      <th>4</th>\n",
       "      <td>1002</td>\n",
       "      <td>Rechazo</td>\n",
       "      <td>2025-06-01 09:45:00</td>\n",
       "      <td>Marta</td>\n",
       "    </tr>\n",
       "  </tbody>\n",
       "</table>\n",
       "</div>"
      ],
      "text/plain": [
       "   case_id         activity           timestamp resource\n",
       "0     1001  Pedido recibido 2025-06-01 09:00:00      Ana\n",
       "1     1001       Validación 2025-06-01 10:00:00    Pedro\n",
       "2     1001       Aprobación 2025-06-01 11:30:00     Juan\n",
       "3     1002  Pedido recibido 2025-06-01 09:15:00      Ana\n",
       "4     1002          Rechazo 2025-06-01 09:45:00    Marta"
      ]
     },
     "execution_count": 27,
     "metadata": {},
     "output_type": "execute_result"
    }
   ],
   "source": [
    "datos = pd.read_csv('datos.csv', parse_dates=['timestamp'])\n",
    "datos"
   ]
  },
  {
   "cell_type": "code",
   "execution_count": 28,
   "id": "f9fc5930",
   "metadata": {},
   "outputs": [
    {
     "name": "stdout",
     "output_type": "stream",
     "text": [
      "<class 'pandas.core.frame.DataFrame'>\n",
      "RangeIndex: 5 entries, 0 to 4\n",
      "Data columns (total 4 columns):\n",
      " #   Column     Non-Null Count  Dtype         \n",
      "---  ------     --------------  -----         \n",
      " 0   case_id    5 non-null      int64         \n",
      " 1   activity   5 non-null      object        \n",
      " 2   timestamp  5 non-null      datetime64[ns]\n",
      " 3   resource   5 non-null      object        \n",
      "dtypes: datetime64[ns](1), int64(1), object(2)\n",
      "memory usage: 288.0+ bytes\n"
     ]
    }
   ],
   "source": [
    "datos.info()"
   ]
  },
  {
   "cell_type": "code",
   "execution_count": 29,
   "id": "ae676827",
   "metadata": {},
   "outputs": [
    {
     "data": {
      "text/html": [
       "<div>\n",
       "<style scoped>\n",
       "    .dataframe tbody tr th:only-of-type {\n",
       "        vertical-align: middle;\n",
       "    }\n",
       "\n",
       "    .dataframe tbody tr th {\n",
       "        vertical-align: top;\n",
       "    }\n",
       "\n",
       "    .dataframe thead th {\n",
       "        text-align: right;\n",
       "    }\n",
       "</style>\n",
       "<table border=\"1\" class=\"dataframe\">\n",
       "  <thead>\n",
       "    <tr style=\"text-align: right;\">\n",
       "      <th></th>\n",
       "      <th>case_id</th>\n",
       "      <th>timestamp</th>\n",
       "    </tr>\n",
       "  </thead>\n",
       "  <tbody>\n",
       "    <tr>\n",
       "      <th>count</th>\n",
       "      <td>5.000000</td>\n",
       "      <td>5</td>\n",
       "    </tr>\n",
       "    <tr>\n",
       "      <th>mean</th>\n",
       "      <td>1001.400000</td>\n",
       "      <td>2025-06-01 09:54:00</td>\n",
       "    </tr>\n",
       "    <tr>\n",
       "      <th>min</th>\n",
       "      <td>1001.000000</td>\n",
       "      <td>2025-06-01 09:00:00</td>\n",
       "    </tr>\n",
       "    <tr>\n",
       "      <th>25%</th>\n",
       "      <td>1001.000000</td>\n",
       "      <td>2025-06-01 09:15:00</td>\n",
       "    </tr>\n",
       "    <tr>\n",
       "      <th>50%</th>\n",
       "      <td>1001.000000</td>\n",
       "      <td>2025-06-01 09:45:00</td>\n",
       "    </tr>\n",
       "    <tr>\n",
       "      <th>75%</th>\n",
       "      <td>1002.000000</td>\n",
       "      <td>2025-06-01 10:00:00</td>\n",
       "    </tr>\n",
       "    <tr>\n",
       "      <th>max</th>\n",
       "      <td>1002.000000</td>\n",
       "      <td>2025-06-01 11:30:00</td>\n",
       "    </tr>\n",
       "    <tr>\n",
       "      <th>std</th>\n",
       "      <td>0.547723</td>\n",
       "      <td>NaN</td>\n",
       "    </tr>\n",
       "  </tbody>\n",
       "</table>\n",
       "</div>"
      ],
      "text/plain": [
       "           case_id            timestamp\n",
       "count     5.000000                    5\n",
       "mean   1001.400000  2025-06-01 09:54:00\n",
       "min    1001.000000  2025-06-01 09:00:00\n",
       "25%    1001.000000  2025-06-01 09:15:00\n",
       "50%    1001.000000  2025-06-01 09:45:00\n",
       "75%    1002.000000  2025-06-01 10:00:00\n",
       "max    1002.000000  2025-06-01 11:30:00\n",
       "std       0.547723                  NaN"
      ]
     },
     "execution_count": 29,
     "metadata": {},
     "output_type": "execute_result"
    }
   ],
   "source": [
    "datos.describe()"
   ]
  },
  {
   "cell_type": "markdown",
   "id": "59b6e1aa",
   "metadata": {},
   "source": [
    "Cambiamos los nombres de las columnas a los que necesita pm4py. Además aprovechamos para ordenar las columnas de forma que queden como las necesita pm4py."
   ]
  },
  {
   "cell_type": "code",
   "execution_count": 30,
   "id": "ce5f5f87",
   "metadata": {},
   "outputs": [
    {
     "data": {
      "text/html": [
       "<div>\n",
       "<style scoped>\n",
       "    .dataframe tbody tr th:only-of-type {\n",
       "        vertical-align: middle;\n",
       "    }\n",
       "\n",
       "    .dataframe tbody tr th {\n",
       "        vertical-align: top;\n",
       "    }\n",
       "\n",
       "    .dataframe thead th {\n",
       "        text-align: right;\n",
       "    }\n",
       "</style>\n",
       "<table border=\"1\" class=\"dataframe\">\n",
       "  <thead>\n",
       "    <tr style=\"text-align: right;\">\n",
       "      <th></th>\n",
       "      <th>case:concept:name</th>\n",
       "      <th>concept:name</th>\n",
       "      <th>time:timestamp</th>\n",
       "      <th>resource</th>\n",
       "    </tr>\n",
       "  </thead>\n",
       "  <tbody>\n",
       "    <tr>\n",
       "      <th>0</th>\n",
       "      <td>1001</td>\n",
       "      <td>Pedido recibido</td>\n",
       "      <td>2025-06-01 09:00:00</td>\n",
       "      <td>Ana</td>\n",
       "    </tr>\n",
       "    <tr>\n",
       "      <th>1</th>\n",
       "      <td>1001</td>\n",
       "      <td>Validación</td>\n",
       "      <td>2025-06-01 10:00:00</td>\n",
       "      <td>Pedro</td>\n",
       "    </tr>\n",
       "    <tr>\n",
       "      <th>2</th>\n",
       "      <td>1001</td>\n",
       "      <td>Aprobación</td>\n",
       "      <td>2025-06-01 11:30:00</td>\n",
       "      <td>Juan</td>\n",
       "    </tr>\n",
       "    <tr>\n",
       "      <th>3</th>\n",
       "      <td>1002</td>\n",
       "      <td>Pedido recibido</td>\n",
       "      <td>2025-06-01 09:15:00</td>\n",
       "      <td>Ana</td>\n",
       "    </tr>\n",
       "    <tr>\n",
       "      <th>4</th>\n",
       "      <td>1002</td>\n",
       "      <td>Rechazo</td>\n",
       "      <td>2025-06-01 09:45:00</td>\n",
       "      <td>Marta</td>\n",
       "    </tr>\n",
       "  </tbody>\n",
       "</table>\n",
       "</div>"
      ],
      "text/plain": [
       "   case:concept:name     concept:name      time:timestamp resource\n",
       "0               1001  Pedido recibido 2025-06-01 09:00:00      Ana\n",
       "1               1001       Validación 2025-06-01 10:00:00    Pedro\n",
       "2               1001       Aprobación 2025-06-01 11:30:00     Juan\n",
       "3               1002  Pedido recibido 2025-06-01 09:15:00      Ana\n",
       "4               1002          Rechazo 2025-06-01 09:45:00    Marta"
      ]
     },
     "execution_count": 30,
     "metadata": {},
     "output_type": "execute_result"
    }
   ],
   "source": [
    "# Renombra las columnas para que pm4py las entienda\n",
    "datos_preparados = datos.rename(columns={\n",
    "    'case_id': 'case:concept:name',\n",
    "    'activity': 'concept:name',\n",
    "    'timestamp': 'time:timestamp'\n",
    "})  \n",
    "# Ordenar por caso y por fecha\n",
    "datos_renombrados = datos_preparados.sort_values(by=['case:concept:name', 'time:timestamp'])  # Ordena los datos por case_id y timestamp\n",
    "\n",
    "datos_preparados "
   ]
  },
  {
   "cell_type": "markdown",
   "id": "7e579f38",
   "metadata": {},
   "source": [
    "Le pido a la librería que cargue el DataFrame y lo transforme en un objeto de tipo Event Log.\n",
    "\n",
    "Un event log es un objeto propio de la librería pm4py que contiene los datos del DataFrame en un formato adecuado para el análisis de procesos."
   ]
  },
  {
   "cell_type": "code",
   "execution_count": 31,
   "id": "5b559c42",
   "metadata": {},
   "outputs": [
    {
     "data": {
      "text/plain": [
       "[{'attributes': {'concept:name': 1001}, 'events': [{'concept:name': 'Pedido recibido', 'time:timestamp': Timestamp('2025-06-01 09:00:00'), 'resource': 'Ana'}, '..', {'concept:name': 'Aprobación', 'time:timestamp': Timestamp('2025-06-01 11:30:00'), 'resource': 'Juan'}]}, '....', {'attributes': {'concept:name': 1002}, 'events': [{'concept:name': 'Pedido recibido', 'time:timestamp': Timestamp('2025-06-01 09:15:00'), 'resource': 'Ana'}, '..', {'concept:name': 'Rechazo', 'time:timestamp': Timestamp('2025-06-01 09:45:00'), 'resource': 'Marta'}]}]"
      ]
     },
     "execution_count": 31,
     "metadata": {},
     "output_type": "execute_result"
    }
   ],
   "source": [
    "log = converter.apply(datos_preparados, variant = converter.Variants.TO_EVENT_LOG)  # Convierte los datos a un log de eventos de pm4py\n",
    "log"
   ]
  },
  {
   "cell_type": "markdown",
   "id": "de567650",
   "metadata": {},
   "source": [
    "Lo que vemos ahí es un formato raro (de listas y diccionarios) en el que pm4py prepara los datos para posteriormente poder analizarlos.B\n",
    "\n",
    "Básicamente, los agrupa por CASO.\n",
    "\n",
    "Ese formato interno nos da igual verlo por pantalla... solo es algo que hay que hacer."
   ]
  },
  {
   "cell_type": "markdown",
   "id": "e8e1485f",
   "metadata": {},
   "source": [
    "Una vez hecho esto, lo que vamos a hacer es generar un modelo, a partir de los datos que hemos cargado, para ver cómo es el proceso.\n",
    "\n",
    "La forma más básica de modelo que tiene pm4py es lo que se llama un PROCESS TREE.\n",
    "\n",
    "Eso es algo muy formal... y que cuando lo miro, flipo!... pero es la descripción matemática formal del modelo de proceso, al que se ajustan TODAS las entradas del log de eventos."
   ]
  },
  {
   "cell_type": "code",
   "execution_count": 34,
   "id": "1e19a69f",
   "metadata": {},
   "outputs": [
    {
     "data": {
      "text/plain": [
       "->( 'Pedido recibido', X( ->( 'Validación', 'Aprobación' ), 'Rechazo' ) )"
      ]
     },
     "execution_count": 34,
     "metadata": {},
     "output_type": "execute_result"
    }
   ],
   "source": [
    "# Estamos usando un algoritmo de mineria de procesos, llamado Inductive Miner, para descubrir el modelo de proceso a partir del log de eventos.\n",
    "# Hay muchos más algoritmos. Ya os pasaré una lista.\n",
    "process_tree = inductive_miner.apply(log)  # Aplica el algoritmo de descubrimiento inductivo a los datos\n",
    "\n",
    "process_tree\n"
   ]
  },
  {
   "cell_type": "markdown",
   "id": "45e2e5d1",
   "metadata": {},
   "source": [
    "Ahí podemos llegar a ver los siguientes operadores:\n",
    "\n",
    "-> SECUENCIA: indica que una actividad(es) sigue a otra.\n",
    "\n",
    "X  ALTERNATIVA: indica que una actividad(es) u otra puede ocurrir.\n",
    "\n",
    "^  AND: Tareas que se ejecutan en paralelo.\n",
    "\n",
    "⟳ ITERACIÓN: indica que una actividad(es) puede repetirse.\n",
    "\n",
    "\n",
    "    SECUENCIA\n",
    "    - Pedido recibido\n",
    "    - ALTERNATIVA\n",
    "        - SECUENCIA\n",
    "            - Validación\n",
    "            - Aprobación\n",
    "        - Rechazo\n",
    "\n",
    "Esta representación es muy buena para el posterior análsis de los datos. Cuando digo muy buena, me refiero a que COMPUTACIONALMENTE ES MUY FÁCIL RECORRER ESE ÁRBOL e ir PROBANDO los datos que tenemos en el fichero de los... a ver si encajan o no con  ese árbol. ESO ES ALGO QUE HACE INTERNAMENTE LA LIBRERÍA PM4PY.\n",
    "\n",
    "Lo que hacemos posteriormente es transformar ese process_tree en algo que nosotros podamos ver y entender mejor: un diagrama de RED DE PETRI o un diagrama BPMN."
   ]
  },
  {
   "cell_type": "code",
   "execution_count": 39,
   "id": "9fbdbe79",
   "metadata": {},
   "outputs": [
    {
     "data": {
      "image/png": "[encoded data removed]",
      "text/plain": [
       "<IPython.core.display.Image object>"
      ]
     },
     "metadata": {},
     "output_type": "display_data"
    }
   ],
   "source": [
    "grafico_process_tree = visualizador_de_process_trees.apply(process_tree, parameters={\"format\": \"png\"})\n",
    "visualizador_de_process_trees.save(grafico_process_tree,\"process_tree.png\")\n",
    "visualizador_de_process_trees.view(grafico_process_tree)"
   ]
  },
  {
   "cell_type": "code",
   "execution_count": null,
   "id": "97ad61d6",
   "metadata": {},
   "outputs": [],
   "source": []
  }
 ],
 "metadata": {
  "kernelspec": {
   "display_name": ".venv",
   "language": "python",
   "name": "python3"
  },
  "language_info": {
   "codemirror_mode": {
    "name": "ipython",
    "version": 3
   },
   "file_extension": ".py",
   "mimetype": "text/x-python",
   "name": "python",
   "nbconvert_exporter": "python",
   "pygments_lexer": "ipython3",
   "version": "3.9.6"
  }
 },
 "nbformat": 4,
 "nbformat_minor": 5
}
